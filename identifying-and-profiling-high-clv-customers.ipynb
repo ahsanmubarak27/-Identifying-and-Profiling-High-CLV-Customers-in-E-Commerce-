{
 "cells": [
  {
   "cell_type": "markdown",
   "id": "1fc5c9e6",
   "metadata": {
    "papermill": {
     "duration": 0.00915,
     "end_time": "2025-07-30T14:06:14.894222",
     "exception": false,
     "start_time": "2025-07-30T14:06:14.885072",
     "status": "completed"
    },
    "tags": []
   },
   "source": [
    "**About Dataset**\n",
    "\n",
    "Dataset: E-commerce Customer Behavior\n",
    "\n",
    "**Source:** [Kaggle - E-commerce Customer Behavior](https://www.kaggle.com/datasets/uom190346a/e-commerce-customer-behavior-dataset)\n",
    "\n",
    "**Overview:**\n",
    "\n",
    "This dataset offers a detailed view of customer behavior on an e-commerce platform. Each row represents a unique customer, including their transaction history and interaction patterns. \n",
    "\n",
    "In this project, I aim to analyze and profile high-CLV (Customer Lifetime Value) segments, as part of my data analyst portfolio. The goal is to identify key traits of valuable customers and generate insights that can help improve customer retention and personalization strategies.\n",
    "\n",
    "**Key Features:**\n",
    "\n",
    "- `Customer ID`: Unique identifier for each customer\n",
    "- `City`: Customer’s location\n",
    "- `Membership Type`: Tier of customer membership\n",
    "- `Total Spend`: Total amount spent\n",
    "- `Satisfaction Level`: Customer satisfaction score\n",
    "- `Items Purchased`: Number of items bought\n",
    "- `Days Since Last Purchase`: Recency of the customer's last transaction\n"
   ]
  },
  {
   "cell_type": "code",
   "execution_count": 1,
   "id": "1c2ee92b",
   "metadata": {
    "execution": {
     "iopub.execute_input": "2025-07-30T14:06:14.913473Z",
     "iopub.status.busy": "2025-07-30T14:06:14.913130Z",
     "iopub.status.idle": "2025-07-30T14:06:18.960454Z",
     "shell.execute_reply": "2025-07-30T14:06:18.959402Z"
    },
    "papermill": {
     "duration": 4.058682,
     "end_time": "2025-07-30T14:06:18.962170",
     "exception": false,
     "start_time": "2025-07-30T14:06:14.903488",
     "status": "completed"
    },
    "tags": []
   },
   "outputs": [],
   "source": [
    "import pandas as pd\n",
    "import matplotlib.pyplot as plt\n",
    "import seaborn as sns\n",
    "import numpy as np"
   ]
  },
  {
   "cell_type": "code",
   "execution_count": 2,
   "id": "400269b9",
   "metadata": {
    "execution": {
     "iopub.execute_input": "2025-07-30T14:06:18.979239Z",
     "iopub.status.busy": "2025-07-30T14:06:18.978779Z",
     "iopub.status.idle": "2025-07-30T14:06:19.033498Z",
     "shell.execute_reply": "2025-07-30T14:06:19.032625Z"
    },
    "executionInfo": {
     "elapsed": 47,
     "status": "ok",
     "timestamp": 1753620351427,
     "user": {
      "displayName": "Ahsan Mubarak",
      "userId": "13952536471194166156"
     },
     "user_tz": -420
    },
    "id": "pSl3E80k164X",
    "outputId": "fc613541-0cb6-45a4-bf25-14489fc2397e",
    "papermill": {
     "duration": 0.064803,
     "end_time": "2025-07-30T14:06:19.034939",
     "exception": false,
     "start_time": "2025-07-30T14:06:18.970136",
     "status": "completed"
    },
    "tags": []
   },
   "outputs": [
    {
     "data": {
      "text/html": [
       "<div>\n",
       "<style scoped>\n",
       "    .dataframe tbody tr th:only-of-type {\n",
       "        vertical-align: middle;\n",
       "    }\n",
       "\n",
       "    .dataframe tbody tr th {\n",
       "        vertical-align: top;\n",
       "    }\n",
       "\n",
       "    .dataframe thead th {\n",
       "        text-align: right;\n",
       "    }\n",
       "</style>\n",
       "<table border=\"1\" class=\"dataframe\">\n",
       "  <thead>\n",
       "    <tr style=\"text-align: right;\">\n",
       "      <th></th>\n",
       "      <th>Customer ID</th>\n",
       "      <th>Gender</th>\n",
       "      <th>Age</th>\n",
       "      <th>City</th>\n",
       "      <th>Membership Type</th>\n",
       "      <th>Total Spend</th>\n",
       "      <th>Items Purchased</th>\n",
       "      <th>Average Rating</th>\n",
       "      <th>Discount Applied</th>\n",
       "      <th>Days Since Last Purchase</th>\n",
       "      <th>Satisfaction Level</th>\n",
       "    </tr>\n",
       "  </thead>\n",
       "  <tbody>\n",
       "    <tr>\n",
       "      <th>0</th>\n",
       "      <td>101</td>\n",
       "      <td>Female</td>\n",
       "      <td>29</td>\n",
       "      <td>New York</td>\n",
       "      <td>Gold</td>\n",
       "      <td>1120.20</td>\n",
       "      <td>14</td>\n",
       "      <td>4.6</td>\n",
       "      <td>True</td>\n",
       "      <td>25</td>\n",
       "      <td>Satisfied</td>\n",
       "    </tr>\n",
       "    <tr>\n",
       "      <th>1</th>\n",
       "      <td>102</td>\n",
       "      <td>Male</td>\n",
       "      <td>34</td>\n",
       "      <td>Los Angeles</td>\n",
       "      <td>Silver</td>\n",
       "      <td>780.50</td>\n",
       "      <td>11</td>\n",
       "      <td>4.1</td>\n",
       "      <td>False</td>\n",
       "      <td>18</td>\n",
       "      <td>Neutral</td>\n",
       "    </tr>\n",
       "    <tr>\n",
       "      <th>2</th>\n",
       "      <td>103</td>\n",
       "      <td>Female</td>\n",
       "      <td>43</td>\n",
       "      <td>Chicago</td>\n",
       "      <td>Bronze</td>\n",
       "      <td>510.75</td>\n",
       "      <td>9</td>\n",
       "      <td>3.4</td>\n",
       "      <td>True</td>\n",
       "      <td>42</td>\n",
       "      <td>Unsatisfied</td>\n",
       "    </tr>\n",
       "    <tr>\n",
       "      <th>3</th>\n",
       "      <td>104</td>\n",
       "      <td>Male</td>\n",
       "      <td>30</td>\n",
       "      <td>San Francisco</td>\n",
       "      <td>Gold</td>\n",
       "      <td>1480.30</td>\n",
       "      <td>19</td>\n",
       "      <td>4.7</td>\n",
       "      <td>False</td>\n",
       "      <td>12</td>\n",
       "      <td>Satisfied</td>\n",
       "    </tr>\n",
       "    <tr>\n",
       "      <th>4</th>\n",
       "      <td>105</td>\n",
       "      <td>Male</td>\n",
       "      <td>27</td>\n",
       "      <td>Miami</td>\n",
       "      <td>Silver</td>\n",
       "      <td>720.40</td>\n",
       "      <td>13</td>\n",
       "      <td>4.0</td>\n",
       "      <td>True</td>\n",
       "      <td>55</td>\n",
       "      <td>Unsatisfied</td>\n",
       "    </tr>\n",
       "    <tr>\n",
       "      <th>...</th>\n",
       "      <td>...</td>\n",
       "      <td>...</td>\n",
       "      <td>...</td>\n",
       "      <td>...</td>\n",
       "      <td>...</td>\n",
       "      <td>...</td>\n",
       "      <td>...</td>\n",
       "      <td>...</td>\n",
       "      <td>...</td>\n",
       "      <td>...</td>\n",
       "      <td>...</td>\n",
       "    </tr>\n",
       "    <tr>\n",
       "      <th>345</th>\n",
       "      <td>446</td>\n",
       "      <td>Male</td>\n",
       "      <td>32</td>\n",
       "      <td>Miami</td>\n",
       "      <td>Silver</td>\n",
       "      <td>660.30</td>\n",
       "      <td>10</td>\n",
       "      <td>3.8</td>\n",
       "      <td>True</td>\n",
       "      <td>42</td>\n",
       "      <td>Unsatisfied</td>\n",
       "    </tr>\n",
       "    <tr>\n",
       "      <th>346</th>\n",
       "      <td>447</td>\n",
       "      <td>Female</td>\n",
       "      <td>36</td>\n",
       "      <td>Houston</td>\n",
       "      <td>Bronze</td>\n",
       "      <td>470.50</td>\n",
       "      <td>8</td>\n",
       "      <td>3.0</td>\n",
       "      <td>False</td>\n",
       "      <td>27</td>\n",
       "      <td>Neutral</td>\n",
       "    </tr>\n",
       "    <tr>\n",
       "      <th>347</th>\n",
       "      <td>448</td>\n",
       "      <td>Female</td>\n",
       "      <td>30</td>\n",
       "      <td>New York</td>\n",
       "      <td>Gold</td>\n",
       "      <td>1190.80</td>\n",
       "      <td>16</td>\n",
       "      <td>4.5</td>\n",
       "      <td>True</td>\n",
       "      <td>28</td>\n",
       "      <td>Satisfied</td>\n",
       "    </tr>\n",
       "    <tr>\n",
       "      <th>348</th>\n",
       "      <td>449</td>\n",
       "      <td>Male</td>\n",
       "      <td>34</td>\n",
       "      <td>Los Angeles</td>\n",
       "      <td>Silver</td>\n",
       "      <td>780.20</td>\n",
       "      <td>11</td>\n",
       "      <td>4.2</td>\n",
       "      <td>False</td>\n",
       "      <td>21</td>\n",
       "      <td>Neutral</td>\n",
       "    </tr>\n",
       "    <tr>\n",
       "      <th>349</th>\n",
       "      <td>450</td>\n",
       "      <td>Female</td>\n",
       "      <td>43</td>\n",
       "      <td>Chicago</td>\n",
       "      <td>Bronze</td>\n",
       "      <td>515.75</td>\n",
       "      <td>10</td>\n",
       "      <td>3.3</td>\n",
       "      <td>True</td>\n",
       "      <td>49</td>\n",
       "      <td>Unsatisfied</td>\n",
       "    </tr>\n",
       "  </tbody>\n",
       "</table>\n",
       "<p>350 rows × 11 columns</p>\n",
       "</div>"
      ],
      "text/plain": [
       "     Customer ID  Gender  Age           City Membership Type  Total Spend  \\\n",
       "0            101  Female   29       New York            Gold      1120.20   \n",
       "1            102    Male   34    Los Angeles          Silver       780.50   \n",
       "2            103  Female   43        Chicago          Bronze       510.75   \n",
       "3            104    Male   30  San Francisco            Gold      1480.30   \n",
       "4            105    Male   27          Miami          Silver       720.40   \n",
       "..           ...     ...  ...            ...             ...          ...   \n",
       "345          446    Male   32          Miami          Silver       660.30   \n",
       "346          447  Female   36        Houston          Bronze       470.50   \n",
       "347          448  Female   30       New York            Gold      1190.80   \n",
       "348          449    Male   34    Los Angeles          Silver       780.20   \n",
       "349          450  Female   43        Chicago          Bronze       515.75   \n",
       "\n",
       "     Items Purchased  Average Rating  Discount Applied  \\\n",
       "0                 14             4.6              True   \n",
       "1                 11             4.1             False   \n",
       "2                  9             3.4              True   \n",
       "3                 19             4.7             False   \n",
       "4                 13             4.0              True   \n",
       "..               ...             ...               ...   \n",
       "345               10             3.8              True   \n",
       "346                8             3.0             False   \n",
       "347               16             4.5              True   \n",
       "348               11             4.2             False   \n",
       "349               10             3.3              True   \n",
       "\n",
       "     Days Since Last Purchase Satisfaction Level  \n",
       "0                          25          Satisfied  \n",
       "1                          18            Neutral  \n",
       "2                          42        Unsatisfied  \n",
       "3                          12          Satisfied  \n",
       "4                          55        Unsatisfied  \n",
       "..                        ...                ...  \n",
       "345                        42        Unsatisfied  \n",
       "346                        27            Neutral  \n",
       "347                        28          Satisfied  \n",
       "348                        21            Neutral  \n",
       "349                        49        Unsatisfied  \n",
       "\n",
       "[350 rows x 11 columns]"
      ]
     },
     "execution_count": 2,
     "metadata": {},
     "output_type": "execute_result"
    }
   ],
   "source": [
    "df = pd.read_csv('/kaggle/input/e-commerce-customer-behavior/E-commerce Customer Behavior - Sheet1.csv')\n",
    "\n",
    "df"
   ]
  },
  {
   "cell_type": "markdown",
   "id": "e15a52cc",
   "metadata": {
    "papermill": {
     "duration": 0.007867,
     "end_time": "2025-07-30T14:06:19.052143",
     "exception": false,
     "start_time": "2025-07-30T14:06:19.044276",
     "status": "completed"
    },
    "tags": []
   },
   "source": [
    "**Data Understanding and Cleaning**"
   ]
  },
  {
   "cell_type": "code",
   "execution_count": 3,
   "id": "362527be",
   "metadata": {
    "execution": {
     "iopub.execute_input": "2025-07-30T14:06:19.069427Z",
     "iopub.status.busy": "2025-07-30T14:06:19.069084Z",
     "iopub.status.idle": "2025-07-30T14:06:19.093251Z",
     "shell.execute_reply": "2025-07-30T14:06:19.092083Z"
    },
    "executionInfo": {
     "elapsed": 216,
     "status": "ok",
     "timestamp": 1753620351642,
     "user": {
      "displayName": "Ahsan Mubarak",
      "userId": "13952536471194166156"
     },
     "user_tz": -420
    },
    "id": "P26dgjNP2I34",
    "outputId": "dbc4ca5f-2d2d-43ba-9c20-adbf49e2aaa8",
    "papermill": {
     "duration": 0.034908,
     "end_time": "2025-07-30T14:06:19.095054",
     "exception": false,
     "start_time": "2025-07-30T14:06:19.060146",
     "status": "completed"
    },
    "tags": []
   },
   "outputs": [
    {
     "name": "stdout",
     "output_type": "stream",
     "text": [
      "<class 'pandas.core.frame.DataFrame'>\n",
      "RangeIndex: 350 entries, 0 to 349\n",
      "Data columns (total 11 columns):\n",
      " #   Column                    Non-Null Count  Dtype  \n",
      "---  ------                    --------------  -----  \n",
      " 0   Customer ID               350 non-null    int64  \n",
      " 1   Gender                    350 non-null    object \n",
      " 2   Age                       350 non-null    int64  \n",
      " 3   City                      350 non-null    object \n",
      " 4   Membership Type           350 non-null    object \n",
      " 5   Total Spend               350 non-null    float64\n",
      " 6   Items Purchased           350 non-null    int64  \n",
      " 7   Average Rating            350 non-null    float64\n",
      " 8   Discount Applied          350 non-null    bool   \n",
      " 9   Days Since Last Purchase  350 non-null    int64  \n",
      " 10  Satisfaction Level        348 non-null    object \n",
      "dtypes: bool(1), float64(2), int64(4), object(4)\n",
      "memory usage: 27.8+ KB\n"
     ]
    }
   ],
   "source": [
    "df.info()"
   ]
  },
  {
   "cell_type": "code",
   "execution_count": 4,
   "id": "c579852b",
   "metadata": {
    "execution": {
     "iopub.execute_input": "2025-07-30T14:06:19.112853Z",
     "iopub.status.busy": "2025-07-30T14:06:19.112220Z",
     "iopub.status.idle": "2025-07-30T14:06:19.119910Z",
     "shell.execute_reply": "2025-07-30T14:06:19.119133Z"
    },
    "executionInfo": {
     "elapsed": 30,
     "status": "ok",
     "timestamp": 1753620351673,
     "user": {
      "displayName": "Ahsan Mubarak",
      "userId": "13952536471194166156"
     },
     "user_tz": -420
    },
    "id": "U1gp__cr2RPH",
    "outputId": "55853ccd-a1dd-4d4d-9cd9-3bd6afd2de05",
    "papermill": {
     "duration": 0.017863,
     "end_time": "2025-07-30T14:06:19.121266",
     "exception": false,
     "start_time": "2025-07-30T14:06:19.103403",
     "status": "completed"
    },
    "tags": []
   },
   "outputs": [
    {
     "data": {
      "text/plain": [
       "Customer ID                 0\n",
       "Gender                      0\n",
       "Age                         0\n",
       "City                        0\n",
       "Membership Type             0\n",
       "Total Spend                 0\n",
       "Items Purchased             0\n",
       "Average Rating              0\n",
       "Discount Applied            0\n",
       "Days Since Last Purchase    0\n",
       "Satisfaction Level          2\n",
       "dtype: int64"
      ]
     },
     "execution_count": 4,
     "metadata": {},
     "output_type": "execute_result"
    }
   ],
   "source": [
    "df.isna().sum()"
   ]
  },
  {
   "cell_type": "code",
   "execution_count": 5,
   "id": "cd5623c8",
   "metadata": {
    "execution": {
     "iopub.execute_input": "2025-07-30T14:06:19.138620Z",
     "iopub.status.busy": "2025-07-30T14:06:19.138259Z",
     "iopub.status.idle": "2025-07-30T14:06:19.151589Z",
     "shell.execute_reply": "2025-07-30T14:06:19.150630Z"
    },
    "executionInfo": {
     "elapsed": 304,
     "status": "ok",
     "timestamp": 1753620351980,
     "user": {
      "displayName": "Ahsan Mubarak",
      "userId": "13952536471194166156"
     },
     "user_tz": -420
    },
    "id": "sPdkBh462jcz",
    "outputId": "7341b326-a7e9-4ca8-a4bf-adcaf7583ab7",
    "papermill": {
     "duration": 0.023604,
     "end_time": "2025-07-30T14:06:19.153047",
     "exception": false,
     "start_time": "2025-07-30T14:06:19.129443",
     "status": "completed"
    },
    "tags": []
   },
   "outputs": [
    {
     "data": {
      "text/html": [
       "<div>\n",
       "<style scoped>\n",
       "    .dataframe tbody tr th:only-of-type {\n",
       "        vertical-align: middle;\n",
       "    }\n",
       "\n",
       "    .dataframe tbody tr th {\n",
       "        vertical-align: top;\n",
       "    }\n",
       "\n",
       "    .dataframe thead th {\n",
       "        text-align: right;\n",
       "    }\n",
       "</style>\n",
       "<table border=\"1\" class=\"dataframe\">\n",
       "  <thead>\n",
       "    <tr style=\"text-align: right;\">\n",
       "      <th></th>\n",
       "      <th>Customer ID</th>\n",
       "      <th>Gender</th>\n",
       "      <th>Age</th>\n",
       "      <th>City</th>\n",
       "      <th>Membership Type</th>\n",
       "      <th>Total Spend</th>\n",
       "      <th>Items Purchased</th>\n",
       "      <th>Average Rating</th>\n",
       "      <th>Discount Applied</th>\n",
       "      <th>Days Since Last Purchase</th>\n",
       "      <th>Satisfaction Level</th>\n",
       "    </tr>\n",
       "  </thead>\n",
       "  <tbody>\n",
       "    <tr>\n",
       "      <th>71</th>\n",
       "      <td>172</td>\n",
       "      <td>Female</td>\n",
       "      <td>37</td>\n",
       "      <td>Houston</td>\n",
       "      <td>Bronze</td>\n",
       "      <td>420.8</td>\n",
       "      <td>7</td>\n",
       "      <td>3.1</td>\n",
       "      <td>False</td>\n",
       "      <td>21</td>\n",
       "      <td>NaN</td>\n",
       "    </tr>\n",
       "    <tr>\n",
       "      <th>143</th>\n",
       "      <td>244</td>\n",
       "      <td>Female</td>\n",
       "      <td>37</td>\n",
       "      <td>Houston</td>\n",
       "      <td>Bronze</td>\n",
       "      <td>430.8</td>\n",
       "      <td>7</td>\n",
       "      <td>3.4</td>\n",
       "      <td>False</td>\n",
       "      <td>23</td>\n",
       "      <td>NaN</td>\n",
       "    </tr>\n",
       "  </tbody>\n",
       "</table>\n",
       "</div>"
      ],
      "text/plain": [
       "     Customer ID  Gender  Age     City Membership Type  Total Spend  \\\n",
       "71           172  Female   37  Houston          Bronze        420.8   \n",
       "143          244  Female   37  Houston          Bronze        430.8   \n",
       "\n",
       "     Items Purchased  Average Rating  Discount Applied  \\\n",
       "71                 7             3.1             False   \n",
       "143                7             3.4             False   \n",
       "\n",
       "     Days Since Last Purchase Satisfaction Level  \n",
       "71                         21                NaN  \n",
       "143                        23                NaN  "
      ]
     },
     "execution_count": 5,
     "metadata": {},
     "output_type": "execute_result"
    }
   ],
   "source": [
    "df[df.isnull().any(axis=1)]"
   ]
  },
  {
   "cell_type": "code",
   "execution_count": 6,
   "id": "11d0aacd",
   "metadata": {
    "execution": {
     "iopub.execute_input": "2025-07-30T14:06:19.170708Z",
     "iopub.status.busy": "2025-07-30T14:06:19.170391Z",
     "iopub.status.idle": "2025-07-30T14:06:19.179517Z",
     "shell.execute_reply": "2025-07-30T14:06:19.178789Z"
    },
    "executionInfo": {
     "elapsed": 19,
     "status": "ok",
     "timestamp": 1753620352006,
     "user": {
      "displayName": "Ahsan Mubarak",
      "userId": "13952536471194166156"
     },
     "user_tz": -420
    },
    "id": "38Oan_MH29qx",
    "outputId": "8347c8bd-aef2-4375-a0b8-7a4cf4f3e28b",
    "papermill": {
     "duration": 0.019437,
     "end_time": "2025-07-30T14:06:19.180980",
     "exception": false,
     "start_time": "2025-07-30T14:06:19.161543",
     "status": "completed"
    },
    "tags": []
   },
   "outputs": [
    {
     "data": {
      "text/plain": [
       "Satisfaction Level\n",
       "Neutral        3.655140\n",
       "Satisfied      4.646400\n",
       "Unsatisfied    3.692241\n",
       "Name: Average Rating, dtype: float64"
      ]
     },
     "execution_count": 6,
     "metadata": {},
     "output_type": "execute_result"
    }
   ],
   "source": [
    "df.groupby('Satisfaction Level')['Average Rating'].mean()"
   ]
  },
  {
   "cell_type": "code",
   "execution_count": 7,
   "id": "ffecdd5c",
   "metadata": {
    "execution": {
     "iopub.execute_input": "2025-07-30T14:06:19.198958Z",
     "iopub.status.busy": "2025-07-30T14:06:19.198640Z",
     "iopub.status.idle": "2025-07-30T14:06:19.204195Z",
     "shell.execute_reply": "2025-07-30T14:06:19.203275Z"
    },
    "executionInfo": {
     "elapsed": 2,
     "status": "ok",
     "timestamp": 1753620352010,
     "user": {
      "displayName": "Ahsan Mubarak",
      "userId": "13952536471194166156"
     },
     "user_tz": -420
    },
    "id": "NE3HkA393PEh",
    "papermill": {
     "duration": 0.016484,
     "end_time": "2025-07-30T14:06:19.205975",
     "exception": false,
     "start_time": "2025-07-30T14:06:19.189491",
     "status": "completed"
    },
    "tags": []
   },
   "outputs": [],
   "source": [
    "df['Satisfaction Level'] = df['Satisfaction Level'].fillna('Unsatisfied')"
   ]
  },
  {
   "cell_type": "code",
   "execution_count": 8,
   "id": "d7b34b6f",
   "metadata": {
    "execution": {
     "iopub.execute_input": "2025-07-30T14:06:19.224718Z",
     "iopub.status.busy": "2025-07-30T14:06:19.224377Z",
     "iopub.status.idle": "2025-07-30T14:06:19.233862Z",
     "shell.execute_reply": "2025-07-30T14:06:19.233062Z"
    },
    "executionInfo": {
     "elapsed": 13,
     "status": "ok",
     "timestamp": 1753620352026,
     "user": {
      "displayName": "Ahsan Mubarak",
      "userId": "13952536471194166156"
     },
     "user_tz": -420
    },
    "id": "0qnpNT9z2VNK",
    "outputId": "eea35332-4ff9-46a6-9afa-3ccd9ac76b33",
    "papermill": {
     "duration": 0.02092,
     "end_time": "2025-07-30T14:06:19.235608",
     "exception": false,
     "start_time": "2025-07-30T14:06:19.214688",
     "status": "completed"
    },
    "tags": []
   },
   "outputs": [
    {
     "data": {
      "text/plain": [
       "0"
      ]
     },
     "execution_count": 8,
     "metadata": {},
     "output_type": "execute_result"
    }
   ],
   "source": [
    "df.duplicated().sum()"
   ]
  },
  {
   "cell_type": "code",
   "execution_count": 9,
   "id": "2d98ba57",
   "metadata": {
    "execution": {
     "iopub.execute_input": "2025-07-30T14:06:19.255052Z",
     "iopub.status.busy": "2025-07-30T14:06:19.254750Z",
     "iopub.status.idle": "2025-07-30T14:06:19.284874Z",
     "shell.execute_reply": "2025-07-30T14:06:19.283920Z"
    },
    "executionInfo": {
     "elapsed": 27,
     "status": "ok",
     "timestamp": 1753620352055,
     "user": {
      "displayName": "Ahsan Mubarak",
      "userId": "13952536471194166156"
     },
     "user_tz": -420
    },
    "id": "CctmrZq-2bq4",
    "outputId": "cfc3ecdf-cc8c-487a-9bfd-b9c42cae412e",
    "papermill": {
     "duration": 0.041575,
     "end_time": "2025-07-30T14:06:19.286672",
     "exception": false,
     "start_time": "2025-07-30T14:06:19.245097",
     "status": "completed"
    },
    "tags": []
   },
   "outputs": [
    {
     "data": {
      "text/html": [
       "<div>\n",
       "<style scoped>\n",
       "    .dataframe tbody tr th:only-of-type {\n",
       "        vertical-align: middle;\n",
       "    }\n",
       "\n",
       "    .dataframe tbody tr th {\n",
       "        vertical-align: top;\n",
       "    }\n",
       "\n",
       "    .dataframe thead th {\n",
       "        text-align: right;\n",
       "    }\n",
       "</style>\n",
       "<table border=\"1\" class=\"dataframe\">\n",
       "  <thead>\n",
       "    <tr style=\"text-align: right;\">\n",
       "      <th></th>\n",
       "      <th>Customer ID</th>\n",
       "      <th>Age</th>\n",
       "      <th>Total Spend</th>\n",
       "      <th>Items Purchased</th>\n",
       "      <th>Average Rating</th>\n",
       "      <th>Days Since Last Purchase</th>\n",
       "    </tr>\n",
       "  </thead>\n",
       "  <tbody>\n",
       "    <tr>\n",
       "      <th>count</th>\n",
       "      <td>350.000000</td>\n",
       "      <td>350.000000</td>\n",
       "      <td>350.000000</td>\n",
       "      <td>350.000000</td>\n",
       "      <td>350.000000</td>\n",
       "      <td>350.000000</td>\n",
       "    </tr>\n",
       "    <tr>\n",
       "      <th>mean</th>\n",
       "      <td>275.500000</td>\n",
       "      <td>33.597143</td>\n",
       "      <td>845.381714</td>\n",
       "      <td>12.600000</td>\n",
       "      <td>4.019143</td>\n",
       "      <td>26.588571</td>\n",
       "    </tr>\n",
       "    <tr>\n",
       "      <th>std</th>\n",
       "      <td>101.180532</td>\n",
       "      <td>4.870882</td>\n",
       "      <td>362.058695</td>\n",
       "      <td>4.155984</td>\n",
       "      <td>0.580539</td>\n",
       "      <td>13.440813</td>\n",
       "    </tr>\n",
       "    <tr>\n",
       "      <th>min</th>\n",
       "      <td>101.000000</td>\n",
       "      <td>26.000000</td>\n",
       "      <td>410.800000</td>\n",
       "      <td>7.000000</td>\n",
       "      <td>3.000000</td>\n",
       "      <td>9.000000</td>\n",
       "    </tr>\n",
       "    <tr>\n",
       "      <th>25%</th>\n",
       "      <td>188.250000</td>\n",
       "      <td>30.000000</td>\n",
       "      <td>502.000000</td>\n",
       "      <td>9.000000</td>\n",
       "      <td>3.500000</td>\n",
       "      <td>15.000000</td>\n",
       "    </tr>\n",
       "    <tr>\n",
       "      <th>50%</th>\n",
       "      <td>275.500000</td>\n",
       "      <td>32.500000</td>\n",
       "      <td>775.200000</td>\n",
       "      <td>12.000000</td>\n",
       "      <td>4.100000</td>\n",
       "      <td>23.000000</td>\n",
       "    </tr>\n",
       "    <tr>\n",
       "      <th>75%</th>\n",
       "      <td>362.750000</td>\n",
       "      <td>37.000000</td>\n",
       "      <td>1160.600000</td>\n",
       "      <td>15.000000</td>\n",
       "      <td>4.500000</td>\n",
       "      <td>38.000000</td>\n",
       "    </tr>\n",
       "    <tr>\n",
       "      <th>max</th>\n",
       "      <td>450.000000</td>\n",
       "      <td>43.000000</td>\n",
       "      <td>1520.100000</td>\n",
       "      <td>21.000000</td>\n",
       "      <td>4.900000</td>\n",
       "      <td>63.000000</td>\n",
       "    </tr>\n",
       "  </tbody>\n",
       "</table>\n",
       "</div>"
      ],
      "text/plain": [
       "       Customer ID         Age  Total Spend  Items Purchased  Average Rating  \\\n",
       "count   350.000000  350.000000   350.000000       350.000000      350.000000   \n",
       "mean    275.500000   33.597143   845.381714        12.600000        4.019143   \n",
       "std     101.180532    4.870882   362.058695         4.155984        0.580539   \n",
       "min     101.000000   26.000000   410.800000         7.000000        3.000000   \n",
       "25%     188.250000   30.000000   502.000000         9.000000        3.500000   \n",
       "50%     275.500000   32.500000   775.200000        12.000000        4.100000   \n",
       "75%     362.750000   37.000000  1160.600000        15.000000        4.500000   \n",
       "max     450.000000   43.000000  1520.100000        21.000000        4.900000   \n",
       "\n",
       "       Days Since Last Purchase  \n",
       "count                350.000000  \n",
       "mean                  26.588571  \n",
       "std                   13.440813  \n",
       "min                    9.000000  \n",
       "25%                   15.000000  \n",
       "50%                   23.000000  \n",
       "75%                   38.000000  \n",
       "max                   63.000000  "
      ]
     },
     "execution_count": 9,
     "metadata": {},
     "output_type": "execute_result"
    }
   ],
   "source": [
    "df.describe()"
   ]
  },
  {
   "cell_type": "code",
   "execution_count": 10,
   "id": "45264141",
   "metadata": {
    "execution": {
     "iopub.execute_input": "2025-07-30T14:06:19.306131Z",
     "iopub.status.busy": "2025-07-30T14:06:19.305581Z",
     "iopub.status.idle": "2025-07-30T14:06:19.626538Z",
     "shell.execute_reply": "2025-07-30T14:06:19.625472Z"
    },
    "executionInfo": {
     "elapsed": 142,
     "status": "ok",
     "timestamp": 1753620352199,
     "user": {
      "displayName": "Ahsan Mubarak",
      "userId": "13952536471194166156"
     },
     "user_tz": -420
    },
    "id": "_rtKibNU3osN",
    "outputId": "ff3f44de-9cf2-434b-bc96-36f6d3655864",
    "papermill": {
     "duration": 0.332277,
     "end_time": "2025-07-30T14:06:19.628135",
     "exception": false,
     "start_time": "2025-07-30T14:06:19.295858",
     "status": "completed"
    },
    "tags": []
   },
   "outputs": [
    {
     "data": {
      "image/png": "[encoded data removed]",
      "text/plain": [
       "<Figure size 640x480 with 1 Axes>"
      ]
     },
     "metadata": {},
     "output_type": "display_data"
    }
   ],
   "source": [
    "sns.boxplot(df['Total Spend'])\n",
    "ax = plt.gca()\n",
    "ax.spines['top'].set_visible(False)\n",
    "ax.spines['right'].set_visible(False)\n",
    "ax.spines['left'].set_color('gray')\n",
    "ax.spines['bottom'].set_color('gray')\n",
    "ax.spines['left'].set_linewidth(0.8)\n",
    "ax.spines['bottom'].set_linewidth(0.8)"
   ]
  },
  {
   "cell_type": "code",
   "execution_count": 11,
   "id": "07cf9d38",
   "metadata": {
    "execution": {
     "iopub.execute_input": "2025-07-30T14:06:19.647237Z",
     "iopub.status.busy": "2025-07-30T14:06:19.646967Z",
     "iopub.status.idle": "2025-07-30T14:06:19.657624Z",
     "shell.execute_reply": "2025-07-30T14:06:19.656703Z"
    },
    "executionInfo": {
     "elapsed": 21,
     "status": "ok",
     "timestamp": 1753620352223,
     "user": {
      "displayName": "Ahsan Mubarak",
      "userId": "13952536471194166156"
     },
     "user_tz": -420
    },
    "id": "z2OY89I77D7-",
    "outputId": "f45fc351-1b8e-4b66-b1db-51ab63c2f878",
    "papermill": {
     "duration": 0.021872,
     "end_time": "2025-07-30T14:06:19.659070",
     "exception": false,
     "start_time": "2025-07-30T14:06:19.637198",
     "status": "completed"
    },
    "tags": []
   },
   "outputs": [
    {
     "data": {
      "text/plain": [
       "Customer ID                 0\n",
       "Gender                      0\n",
       "Age                         0\n",
       "City                        0\n",
       "Membership Type             0\n",
       "Total Spend                 0\n",
       "Items Purchased             0\n",
       "Average Rating              0\n",
       "Discount Applied            0\n",
       "Days Since Last Purchase    0\n",
       "Satisfaction Level          0\n",
       "dtype: int64"
      ]
     },
     "execution_count": 11,
     "metadata": {},
     "output_type": "execute_result"
    }
   ],
   "source": [
    "Q1 = df['Total Spend'].quantile(0.25)\n",
    "Q3 = df['Total Spend'].quantile(0.75)\n",
    "IQR = Q3 - Q1\n",
    "outliers = df[(df['Total Spend'] < Q1 - 1.5 * IQR) | (df['Total Spend'] > Q3 + 1.5 * IQR)]\n",
    "outliers.count()"
   ]
  },
  {
   "cell_type": "markdown",
   "id": "64e23ff4",
   "metadata": {
    "papermill": {
     "duration": 0.008671,
     "end_time": "2025-07-30T14:06:19.676782",
     "exception": false,
     "start_time": "2025-07-30T14:06:19.668111",
     "status": "completed"
    },
    "tags": []
   },
   "source": [
    "**Exploratory Data Analyst**"
   ]
  },
  {
   "cell_type": "code",
   "execution_count": 12,
   "id": "1baa35ed",
   "metadata": {
    "execution": {
     "iopub.execute_input": "2025-07-30T14:06:19.695941Z",
     "iopub.status.busy": "2025-07-30T14:06:19.695627Z",
     "iopub.status.idle": "2025-07-30T14:06:19.709097Z",
     "shell.execute_reply": "2025-07-30T14:06:19.708247Z"
    },
    "executionInfo": {
     "elapsed": 32,
     "status": "ok",
     "timestamp": 1753620352252,
     "user": {
      "displayName": "Ahsan Mubarak",
      "userId": "13952536471194166156"
     },
     "user_tz": -420
    },
    "id": "sBOY1OG07a3c",
    "outputId": "7e913e30-f72b-4e48-8949-61a849f385c3",
    "papermill": {
     "duration": 0.02489,
     "end_time": "2025-07-30T14:06:19.710582",
     "exception": false,
     "start_time": "2025-07-30T14:06:19.685692",
     "status": "completed"
    },
    "tags": []
   },
   "outputs": [
    {
     "data": {
      "text/html": [
       "<div>\n",
       "<style scoped>\n",
       "    .dataframe tbody tr th:only-of-type {\n",
       "        vertical-align: middle;\n",
       "    }\n",
       "\n",
       "    .dataframe tbody tr th {\n",
       "        vertical-align: top;\n",
       "    }\n",
       "\n",
       "    .dataframe thead th {\n",
       "        text-align: right;\n",
       "    }\n",
       "</style>\n",
       "<table border=\"1\" class=\"dataframe\">\n",
       "  <thead>\n",
       "    <tr style=\"text-align: right;\">\n",
       "      <th></th>\n",
       "      <th>Customer ID</th>\n",
       "      <th>CLV</th>\n",
       "    </tr>\n",
       "  </thead>\n",
       "  <tbody>\n",
       "    <tr>\n",
       "      <th>0</th>\n",
       "      <td>101</td>\n",
       "      <td>1120.20</td>\n",
       "    </tr>\n",
       "    <tr>\n",
       "      <th>1</th>\n",
       "      <td>102</td>\n",
       "      <td>780.50</td>\n",
       "    </tr>\n",
       "    <tr>\n",
       "      <th>2</th>\n",
       "      <td>103</td>\n",
       "      <td>510.75</td>\n",
       "    </tr>\n",
       "    <tr>\n",
       "      <th>3</th>\n",
       "      <td>104</td>\n",
       "      <td>1480.30</td>\n",
       "    </tr>\n",
       "    <tr>\n",
       "      <th>4</th>\n",
       "      <td>105</td>\n",
       "      <td>720.40</td>\n",
       "    </tr>\n",
       "    <tr>\n",
       "      <th>...</th>\n",
       "      <td>...</td>\n",
       "      <td>...</td>\n",
       "    </tr>\n",
       "    <tr>\n",
       "      <th>345</th>\n",
       "      <td>446</td>\n",
       "      <td>660.30</td>\n",
       "    </tr>\n",
       "    <tr>\n",
       "      <th>346</th>\n",
       "      <td>447</td>\n",
       "      <td>470.50</td>\n",
       "    </tr>\n",
       "    <tr>\n",
       "      <th>347</th>\n",
       "      <td>448</td>\n",
       "      <td>1190.80</td>\n",
       "    </tr>\n",
       "    <tr>\n",
       "      <th>348</th>\n",
       "      <td>449</td>\n",
       "      <td>780.20</td>\n",
       "    </tr>\n",
       "    <tr>\n",
       "      <th>349</th>\n",
       "      <td>450</td>\n",
       "      <td>515.75</td>\n",
       "    </tr>\n",
       "  </tbody>\n",
       "</table>\n",
       "<p>350 rows × 2 columns</p>\n",
       "</div>"
      ],
      "text/plain": [
       "     Customer ID      CLV\n",
       "0            101  1120.20\n",
       "1            102   780.50\n",
       "2            103   510.75\n",
       "3            104  1480.30\n",
       "4            105   720.40\n",
       "..           ...      ...\n",
       "345          446   660.30\n",
       "346          447   470.50\n",
       "347          448  1190.80\n",
       "348          449   780.20\n",
       "349          450   515.75\n",
       "\n",
       "[350 rows x 2 columns]"
      ]
     },
     "execution_count": 12,
     "metadata": {},
     "output_type": "execute_result"
    }
   ],
   "source": [
    "clv = df.groupby('Customer ID')['Total Spend'].sum().reset_index()\n",
    "clv.columns = ['Customer ID', 'CLV']\n",
    "clv"
   ]
  },
  {
   "cell_type": "code",
   "execution_count": 13,
   "id": "ad01ae02",
   "metadata": {
    "execution": {
     "iopub.execute_input": "2025-07-30T14:06:19.796780Z",
     "iopub.status.busy": "2025-07-30T14:06:19.796466Z",
     "iopub.status.idle": "2025-07-30T14:06:19.806836Z",
     "shell.execute_reply": "2025-07-30T14:06:19.805787Z"
    },
    "executionInfo": {
     "elapsed": 10,
     "status": "ok",
     "timestamp": 1753620352257,
     "user": {
      "displayName": "Ahsan Mubarak",
      "userId": "13952536471194166156"
     },
     "user_tz": -420
    },
    "id": "Uax9awOU8HH9",
    "papermill": {
     "duration": 0.08857,
     "end_time": "2025-07-30T14:06:19.808427",
     "exception": false,
     "start_time": "2025-07-30T14:06:19.719857",
     "status": "completed"
    },
    "tags": []
   },
   "outputs": [],
   "source": [
    "quartiles = clv['CLV'].quantile([0.25, 0.5, 0.75])\n",
    "\n",
    "def clv_category(value):\n",
    "    if value >= quartiles[0.75]:\n",
    "        return 'High'\n",
    "    elif value >= quartiles[0.50]:\n",
    "        return 'Medium'\n",
    "    elif value >= quartiles[0.25]:\n",
    "        return 'Low'\n",
    "    else:\n",
    "        return 'Very Low'\n",
    "\n",
    "clv['CLV Category'] = clv['CLV'].apply(clv_category)\n"
   ]
  },
  {
   "cell_type": "code",
   "execution_count": 14,
   "id": "4d6f0ca9",
   "metadata": {
    "execution": {
     "iopub.execute_input": "2025-07-30T14:06:19.828673Z",
     "iopub.status.busy": "2025-07-30T14:06:19.828282Z",
     "iopub.status.idle": "2025-07-30T14:06:19.850847Z",
     "shell.execute_reply": "2025-07-30T14:06:19.849784Z"
    },
    "executionInfo": {
     "elapsed": 60,
     "status": "ok",
     "timestamp": 1753620352311,
     "user": {
      "displayName": "Ahsan Mubarak",
      "userId": "13952536471194166156"
     },
     "user_tz": -420
    },
    "id": "0E-N8OZp9rCP",
    "outputId": "d57da3dc-a565-489b-d68c-47b1c0ae021f",
    "papermill": {
     "duration": 0.034173,
     "end_time": "2025-07-30T14:06:19.852287",
     "exception": false,
     "start_time": "2025-07-30T14:06:19.818114",
     "status": "completed"
    },
    "tags": []
   },
   "outputs": [
    {
     "data": {
      "text/html": [
       "<div>\n",
       "<style scoped>\n",
       "    .dataframe tbody tr th:only-of-type {\n",
       "        vertical-align: middle;\n",
       "    }\n",
       "\n",
       "    .dataframe tbody tr th {\n",
       "        vertical-align: top;\n",
       "    }\n",
       "\n",
       "    .dataframe thead th {\n",
       "        text-align: right;\n",
       "    }\n",
       "</style>\n",
       "<table border=\"1\" class=\"dataframe\">\n",
       "  <thead>\n",
       "    <tr style=\"text-align: right;\">\n",
       "      <th></th>\n",
       "      <th>Customer ID</th>\n",
       "      <th>Gender</th>\n",
       "      <th>Age</th>\n",
       "      <th>City</th>\n",
       "      <th>Membership Type</th>\n",
       "      <th>Total Spend</th>\n",
       "      <th>Items Purchased</th>\n",
       "      <th>Average Rating</th>\n",
       "      <th>Discount Applied</th>\n",
       "      <th>Days Since Last Purchase</th>\n",
       "      <th>Satisfaction Level</th>\n",
       "      <th>CLV</th>\n",
       "      <th>CLV Category</th>\n",
       "    </tr>\n",
       "  </thead>\n",
       "  <tbody>\n",
       "    <tr>\n",
       "      <th>0</th>\n",
       "      <td>101</td>\n",
       "      <td>Female</td>\n",
       "      <td>29</td>\n",
       "      <td>New York</td>\n",
       "      <td>Gold</td>\n",
       "      <td>1120.20</td>\n",
       "      <td>14</td>\n",
       "      <td>4.6</td>\n",
       "      <td>True</td>\n",
       "      <td>25</td>\n",
       "      <td>Satisfied</td>\n",
       "      <td>1120.20</td>\n",
       "      <td>Medium</td>\n",
       "    </tr>\n",
       "    <tr>\n",
       "      <th>1</th>\n",
       "      <td>102</td>\n",
       "      <td>Male</td>\n",
       "      <td>34</td>\n",
       "      <td>Los Angeles</td>\n",
       "      <td>Silver</td>\n",
       "      <td>780.50</td>\n",
       "      <td>11</td>\n",
       "      <td>4.1</td>\n",
       "      <td>False</td>\n",
       "      <td>18</td>\n",
       "      <td>Neutral</td>\n",
       "      <td>780.50</td>\n",
       "      <td>Medium</td>\n",
       "    </tr>\n",
       "    <tr>\n",
       "      <th>2</th>\n",
       "      <td>103</td>\n",
       "      <td>Female</td>\n",
       "      <td>43</td>\n",
       "      <td>Chicago</td>\n",
       "      <td>Bronze</td>\n",
       "      <td>510.75</td>\n",
       "      <td>9</td>\n",
       "      <td>3.4</td>\n",
       "      <td>True</td>\n",
       "      <td>42</td>\n",
       "      <td>Unsatisfied</td>\n",
       "      <td>510.75</td>\n",
       "      <td>Low</td>\n",
       "    </tr>\n",
       "    <tr>\n",
       "      <th>3</th>\n",
       "      <td>104</td>\n",
       "      <td>Male</td>\n",
       "      <td>30</td>\n",
       "      <td>San Francisco</td>\n",
       "      <td>Gold</td>\n",
       "      <td>1480.30</td>\n",
       "      <td>19</td>\n",
       "      <td>4.7</td>\n",
       "      <td>False</td>\n",
       "      <td>12</td>\n",
       "      <td>Satisfied</td>\n",
       "      <td>1480.30</td>\n",
       "      <td>High</td>\n",
       "    </tr>\n",
       "    <tr>\n",
       "      <th>4</th>\n",
       "      <td>105</td>\n",
       "      <td>Male</td>\n",
       "      <td>27</td>\n",
       "      <td>Miami</td>\n",
       "      <td>Silver</td>\n",
       "      <td>720.40</td>\n",
       "      <td>13</td>\n",
       "      <td>4.0</td>\n",
       "      <td>True</td>\n",
       "      <td>55</td>\n",
       "      <td>Unsatisfied</td>\n",
       "      <td>720.40</td>\n",
       "      <td>Low</td>\n",
       "    </tr>\n",
       "    <tr>\n",
       "      <th>...</th>\n",
       "      <td>...</td>\n",
       "      <td>...</td>\n",
       "      <td>...</td>\n",
       "      <td>...</td>\n",
       "      <td>...</td>\n",
       "      <td>...</td>\n",
       "      <td>...</td>\n",
       "      <td>...</td>\n",
       "      <td>...</td>\n",
       "      <td>...</td>\n",
       "      <td>...</td>\n",
       "      <td>...</td>\n",
       "      <td>...</td>\n",
       "    </tr>\n",
       "    <tr>\n",
       "      <th>345</th>\n",
       "      <td>446</td>\n",
       "      <td>Male</td>\n",
       "      <td>32</td>\n",
       "      <td>Miami</td>\n",
       "      <td>Silver</td>\n",
       "      <td>660.30</td>\n",
       "      <td>10</td>\n",
       "      <td>3.8</td>\n",
       "      <td>True</td>\n",
       "      <td>42</td>\n",
       "      <td>Unsatisfied</td>\n",
       "      <td>660.30</td>\n",
       "      <td>Low</td>\n",
       "    </tr>\n",
       "    <tr>\n",
       "      <th>346</th>\n",
       "      <td>447</td>\n",
       "      <td>Female</td>\n",
       "      <td>36</td>\n",
       "      <td>Houston</td>\n",
       "      <td>Bronze</td>\n",
       "      <td>470.50</td>\n",
       "      <td>8</td>\n",
       "      <td>3.0</td>\n",
       "      <td>False</td>\n",
       "      <td>27</td>\n",
       "      <td>Neutral</td>\n",
       "      <td>470.50</td>\n",
       "      <td>Very Low</td>\n",
       "    </tr>\n",
       "    <tr>\n",
       "      <th>347</th>\n",
       "      <td>448</td>\n",
       "      <td>Female</td>\n",
       "      <td>30</td>\n",
       "      <td>New York</td>\n",
       "      <td>Gold</td>\n",
       "      <td>1190.80</td>\n",
       "      <td>16</td>\n",
       "      <td>4.5</td>\n",
       "      <td>True</td>\n",
       "      <td>28</td>\n",
       "      <td>Satisfied</td>\n",
       "      <td>1190.80</td>\n",
       "      <td>High</td>\n",
       "    </tr>\n",
       "    <tr>\n",
       "      <th>348</th>\n",
       "      <td>449</td>\n",
       "      <td>Male</td>\n",
       "      <td>34</td>\n",
       "      <td>Los Angeles</td>\n",
       "      <td>Silver</td>\n",
       "      <td>780.20</td>\n",
       "      <td>11</td>\n",
       "      <td>4.2</td>\n",
       "      <td>False</td>\n",
       "      <td>21</td>\n",
       "      <td>Neutral</td>\n",
       "      <td>780.20</td>\n",
       "      <td>Medium</td>\n",
       "    </tr>\n",
       "    <tr>\n",
       "      <th>349</th>\n",
       "      <td>450</td>\n",
       "      <td>Female</td>\n",
       "      <td>43</td>\n",
       "      <td>Chicago</td>\n",
       "      <td>Bronze</td>\n",
       "      <td>515.75</td>\n",
       "      <td>10</td>\n",
       "      <td>3.3</td>\n",
       "      <td>True</td>\n",
       "      <td>49</td>\n",
       "      <td>Unsatisfied</td>\n",
       "      <td>515.75</td>\n",
       "      <td>Low</td>\n",
       "    </tr>\n",
       "  </tbody>\n",
       "</table>\n",
       "<p>350 rows × 13 columns</p>\n",
       "</div>"
      ],
      "text/plain": [
       "     Customer ID  Gender  Age           City Membership Type  Total Spend  \\\n",
       "0            101  Female   29       New York            Gold      1120.20   \n",
       "1            102    Male   34    Los Angeles          Silver       780.50   \n",
       "2            103  Female   43        Chicago          Bronze       510.75   \n",
       "3            104    Male   30  San Francisco            Gold      1480.30   \n",
       "4            105    Male   27          Miami          Silver       720.40   \n",
       "..           ...     ...  ...            ...             ...          ...   \n",
       "345          446    Male   32          Miami          Silver       660.30   \n",
       "346          447  Female   36        Houston          Bronze       470.50   \n",
       "347          448  Female   30       New York            Gold      1190.80   \n",
       "348          449    Male   34    Los Angeles          Silver       780.20   \n",
       "349          450  Female   43        Chicago          Bronze       515.75   \n",
       "\n",
       "     Items Purchased  Average Rating  Discount Applied  \\\n",
       "0                 14             4.6              True   \n",
       "1                 11             4.1             False   \n",
       "2                  9             3.4              True   \n",
       "3                 19             4.7             False   \n",
       "4                 13             4.0              True   \n",
       "..               ...             ...               ...   \n",
       "345               10             3.8              True   \n",
       "346                8             3.0             False   \n",
       "347               16             4.5              True   \n",
       "348               11             4.2             False   \n",
       "349               10             3.3              True   \n",
       "\n",
       "     Days Since Last Purchase Satisfaction Level      CLV CLV Category  \n",
       "0                          25          Satisfied  1120.20       Medium  \n",
       "1                          18            Neutral   780.50       Medium  \n",
       "2                          42        Unsatisfied   510.75          Low  \n",
       "3                          12          Satisfied  1480.30         High  \n",
       "4                          55        Unsatisfied   720.40          Low  \n",
       "..                        ...                ...      ...          ...  \n",
       "345                        42        Unsatisfied   660.30          Low  \n",
       "346                        27            Neutral   470.50     Very Low  \n",
       "347                        28          Satisfied  1190.80         High  \n",
       "348                        21            Neutral   780.20       Medium  \n",
       "349                        49        Unsatisfied   515.75          Low  \n",
       "\n",
       "[350 rows x 13 columns]"
      ]
     },
     "execution_count": 14,
     "metadata": {},
     "output_type": "execute_result"
    }
   ],
   "source": [
    "df = df.merge(clv, on='Customer ID', how='left')\n",
    "df"
   ]
  },
  {
   "cell_type": "code",
   "execution_count": 15,
   "id": "473b572e",
   "metadata": {
    "execution": {
     "iopub.execute_input": "2025-07-30T14:06:19.872974Z",
     "iopub.status.busy": "2025-07-30T14:06:19.872652Z",
     "iopub.status.idle": "2025-07-30T14:06:19.879741Z",
     "shell.execute_reply": "2025-07-30T14:06:19.878943Z"
    },
    "executionInfo": {
     "elapsed": 24,
     "status": "ok",
     "timestamp": 1753620352315,
     "user": {
      "displayName": "Ahsan Mubarak",
      "userId": "13952536471194166156"
     },
     "user_tz": -420
    },
    "id": "8bNlL1G2cE-j",
    "outputId": "1dbeae01-d1e7-4c99-f2c7-af7e591ca8c4",
    "papermill": {
     "duration": 0.019046,
     "end_time": "2025-07-30T14:06:19.881135",
     "exception": false,
     "start_time": "2025-07-30T14:06:19.862089",
     "status": "completed"
    },
    "tags": []
   },
   "outputs": [
    {
     "data": {
      "text/plain": [
       "CLV Category\n",
       "High        89\n",
       "Very Low    88\n",
       "Low         87\n",
       "Medium      86\n",
       "Name: count, dtype: int64"
      ]
     },
     "execution_count": 15,
     "metadata": {},
     "output_type": "execute_result"
    }
   ],
   "source": [
    "df['CLV Category'].value_counts()"
   ]
  },
  {
   "cell_type": "code",
   "execution_count": 16,
   "id": "c5bd3954",
   "metadata": {
    "execution": {
     "iopub.execute_input": "2025-07-30T14:06:19.902279Z",
     "iopub.status.busy": "2025-07-30T14:06:19.901513Z",
     "iopub.status.idle": "2025-07-30T14:06:20.069848Z",
     "shell.execute_reply": "2025-07-30T14:06:20.068916Z"
    },
    "executionInfo": {
     "elapsed": 64,
     "status": "ok",
     "timestamp": 1753620352374,
     "user": {
      "displayName": "Ahsan Mubarak",
      "userId": "13952536471194166156"
     },
     "user_tz": -420
    },
    "id": "4de-YsqLbps-",
    "outputId": "460abdb5-e151-49ea-bb1a-e810f5e37133",
    "papermill": {
     "duration": 0.180313,
     "end_time": "2025-07-30T14:06:20.071239",
     "exception": false,
     "start_time": "2025-07-30T14:06:19.890926",
     "status": "completed"
    },
    "tags": []
   },
   "outputs": [
    {
     "data": {
      "image/png": "[encoded data removed]",
      "text/plain": [
       "<Figure size 800x500 with 1 Axes>"
      ]
     },
     "metadata": {},
     "output_type": "display_data"
    }
   ],
   "source": [
    "CLV = df['CLV Category'].value_counts().reset_index()\n",
    "CLV.columns = ['CLV Category', 'Count']\n",
    "\n",
    "plt.figure(figsize=(8, 5))\n",
    "bars = plt.bar(CLV['CLV Category'], CLV['Count'], color='#06D6A0')\n",
    "plt.title('CLV Category')\n",
    "plt.xlabel('')\n",
    "plt.ylabel('Count')\n",
    "\n",
    "ax = plt.gca()\n",
    "for side in ['top', 'right']:\n",
    "    ax.spines[side].set_visible(False)\n",
    "ax.spines['left'].set_color('gray')\n",
    "ax.spines['bottom'].set_color('gray')\n",
    "ax.spines['left'].set_linewidth(0.8)\n",
    "ax.spines['bottom'].set_linewidth(0.8)\n",
    "\n",
    "for bar in bars:\n",
    "    height = bar.get_height()\n",
    "    plt.text(\n",
    "        bar.get_x() + bar.get_width() / 2,\n",
    "        height + 0.5,\n",
    "        f'{int(height)}',\n",
    "        ha='center', va='bottom', fontsize=11, color='black'\n",
    "    )\n",
    "\n",
    "plt.grid(False)\n",
    "plt.tight_layout()\n",
    "plt.show()"
   ]
  },
  {
   "cell_type": "markdown",
   "id": "dccad331",
   "metadata": {
    "papermill": {
     "duration": 0.009704,
     "end_time": "2025-07-30T14:06:20.091368",
     "exception": false,
     "start_time": "2025-07-30T14:06:20.081664",
     "status": "completed"
    },
    "tags": []
   },
   "source": [
    "**CLV Distribution**  \n",
    "\n",
    "The CLV values are tightly clustered between 86 and 89, indicating limited variation across customers. This suggests segmentation based on small behavioral differences.\n"
   ]
  },
  {
   "cell_type": "code",
   "execution_count": 17,
   "id": "c9343d8a",
   "metadata": {
    "execution": {
     "iopub.execute_input": "2025-07-30T14:06:20.112545Z",
     "iopub.status.busy": "2025-07-30T14:06:20.112158Z",
     "iopub.status.idle": "2025-07-30T14:06:20.139314Z",
     "shell.execute_reply": "2025-07-30T14:06:20.138438Z"
    },
    "executionInfo": {
     "elapsed": 36,
     "status": "ok",
     "timestamp": 1753620352556,
     "user": {
      "displayName": "Ahsan Mubarak",
      "userId": "13952536471194166156"
     },
     "user_tz": -420
    },
    "id": "EzDNOWfqhqTu",
    "outputId": "4c75acb5-e498-4323-fcfb-b886af068f0f",
    "papermill": {
     "duration": 0.039532,
     "end_time": "2025-07-30T14:06:20.140888",
     "exception": false,
     "start_time": "2025-07-30T14:06:20.101356",
     "status": "completed"
    },
    "tags": []
   },
   "outputs": [
    {
     "data": {
      "text/html": [
       "<div>\n",
       "<style scoped>\n",
       "    .dataframe tbody tr th:only-of-type {\n",
       "        vertical-align: middle;\n",
       "    }\n",
       "\n",
       "    .dataframe tbody tr th {\n",
       "        vertical-align: top;\n",
       "    }\n",
       "\n",
       "    .dataframe thead th {\n",
       "        text-align: right;\n",
       "    }\n",
       "</style>\n",
       "<table border=\"1\" class=\"dataframe\">\n",
       "  <thead>\n",
       "    <tr style=\"text-align: right;\">\n",
       "      <th>CLV Category</th>\n",
       "      <th>High</th>\n",
       "      <th>Low</th>\n",
       "      <th>Medium</th>\n",
       "      <th>Very Low</th>\n",
       "    </tr>\n",
       "    <tr>\n",
       "      <th>Membership Type</th>\n",
       "      <th></th>\n",
       "      <th></th>\n",
       "      <th></th>\n",
       "      <th></th>\n",
       "    </tr>\n",
       "  </thead>\n",
       "  <tbody>\n",
       "    <tr>\n",
       "      <th>Bronze</th>\n",
       "      <td>0</td>\n",
       "      <td>28</td>\n",
       "      <td>0</td>\n",
       "      <td>88</td>\n",
       "    </tr>\n",
       "    <tr>\n",
       "      <th>Gold</th>\n",
       "      <td>89</td>\n",
       "      <td>0</td>\n",
       "      <td>28</td>\n",
       "      <td>0</td>\n",
       "    </tr>\n",
       "    <tr>\n",
       "      <th>Silver</th>\n",
       "      <td>0</td>\n",
       "      <td>59</td>\n",
       "      <td>58</td>\n",
       "      <td>0</td>\n",
       "    </tr>\n",
       "  </tbody>\n",
       "</table>\n",
       "</div>"
      ],
      "text/plain": [
       "CLV Category     High  Low  Medium  Very Low\n",
       "Membership Type                             \n",
       "Bronze              0   28       0        88\n",
       "Gold               89    0      28         0\n",
       "Silver              0   59      58         0"
      ]
     },
     "execution_count": 17,
     "metadata": {},
     "output_type": "execute_result"
    }
   ],
   "source": [
    "pd.crosstab(df['Membership Type'], df['CLV Category'])"
   ]
  },
  {
   "cell_type": "code",
   "execution_count": 18,
   "id": "d6b1131a",
   "metadata": {
    "execution": {
     "iopub.execute_input": "2025-07-30T14:06:20.162587Z",
     "iopub.status.busy": "2025-07-30T14:06:20.162207Z",
     "iopub.status.idle": "2025-07-30T14:06:20.419035Z",
     "shell.execute_reply": "2025-07-30T14:06:20.418024Z"
    },
    "executionInfo": {
     "elapsed": 435,
     "status": "ok",
     "timestamp": 1753621384329,
     "user": {
      "displayName": "Ahsan Mubarak",
      "userId": "13952536471194166156"
     },
     "user_tz": -420
    },
    "id": "tvlsH2vme6p-",
    "outputId": "30076cd7-7f46-4c2d-fb30-043a1f7625b0",
    "papermill": {
     "duration": 0.270276,
     "end_time": "2025-07-30T14:06:20.421406",
     "exception": false,
     "start_time": "2025-07-30T14:06:20.151130",
     "status": "completed"
    },
    "tags": []
   },
   "outputs": [
    {
     "data": {
      "image/png": "[encoded data removed]",
      "text/plain": [
       "<Figure size 800x500 with 1 Axes>"
      ]
     },
     "metadata": {},
     "output_type": "display_data"
    }
   ],
   "source": [
    "clv_by_membership = pd.crosstab(df['Membership Type'], df['CLV Category'])\n",
    "clv_by_membership = clv_by_membership[['Very Low', 'Low', 'Medium', 'High']]\n",
    "\n",
    "colors = ['#ccece6', '#66c2a4', '#238b45', '#00441b']\n",
    "\n",
    "ax = clv_by_membership.plot(\n",
    "    kind='barh',\n",
    "    stacked=True,\n",
    "    figsize=(8, 5),\n",
    "    color=colors\n",
    ")\n",
    "\n",
    "ax.set_yticks(range(len(clv_by_membership.index)))\n",
    "ax.set_yticklabels(clv_by_membership.index)\n",
    "\n",
    "for container in ax.containers:\n",
    "    for i, patch in enumerate(container.patches):\n",
    "        width = patch.get_width()\n",
    "        if width > 0:\n",
    "\n",
    "            x = patch.get_x() + width / 2\n",
    "            y = patch.get_y() + patch.get_height() / 2\n",
    "            clv_category = clv_by_membership.columns[ax.containers.index(container)]\n",
    "            ax.text(\n",
    "                x,\n",
    "                y,\n",
    "                f\"{clv_category}\",\n",
    "                va='center',\n",
    "                ha='center',\n",
    "                color='black',\n",
    "                fontsize=9\n",
    "            )\n",
    "\n",
    "\n",
    "plt.title('CLV Category by Membership Type')\n",
    "plt.xlabel('')\n",
    "plt.ylabel('Membership Type')\n",
    "\n",
    "for side in ['top', 'right']:\n",
    "    ax.spines[side].set_visible(False)\n",
    "ax.spines['left'].set_color('gray')\n",
    "ax.spines['bottom'].set_color('gray')\n",
    "ax.spines['left'].set_linewidth(0.8)\n",
    "ax.spines['bottom'].set_linewidth(0.8)\n",
    "\n",
    "plt.grid(False)\n",
    "plt.legend().remove()\n",
    "plt.tight_layout()\n",
    "plt.show()"
   ]
  },
  {
   "cell_type": "markdown",
   "id": "fa26aa1a",
   "metadata": {
    "papermill": {
     "duration": 0.010455,
     "end_time": "2025-07-30T14:06:20.443852",
     "exception": false,
     "start_time": "2025-07-30T14:06:20.433397",
     "status": "completed"
    },
    "tags": []
   },
   "source": [
    "**Membership Type vs CLV**\n",
    "\n",
    "All High-CLV customers are Gold members, highlighting a strong link between membership tier and customer value. Among Medium-CLV customers, 76% hold Silver memberships, while only 24% are in Gold.\n",
    "\n",
    "**Interpretation:** \n",
    "\n",
    "Gold membership is a strong indicator of high customer value. Encouraging customers to upgrade could improve overall CLV.\n"
   ]
  },
  {
   "cell_type": "code",
   "execution_count": 19,
   "id": "1a88377d",
   "metadata": {
    "execution": {
     "iopub.execute_input": "2025-07-30T14:06:20.466152Z",
     "iopub.status.busy": "2025-07-30T14:06:20.465830Z",
     "iopub.status.idle": "2025-07-30T14:06:20.481374Z",
     "shell.execute_reply": "2025-07-30T14:06:20.480497Z"
    },
    "executionInfo": {
     "elapsed": 137,
     "status": "ok",
     "timestamp": 1753621789963,
     "user": {
      "displayName": "Ahsan Mubarak",
      "userId": "13952536471194166156"
     },
     "user_tz": -420
    },
    "id": "FZMdYvtDAPY2",
    "outputId": "a97a9575-aba6-4d26-dcd9-21e8f798d664",
    "papermill": {
     "duration": 0.028757,
     "end_time": "2025-07-30T14:06:20.483037",
     "exception": false,
     "start_time": "2025-07-30T14:06:20.454280",
     "status": "completed"
    },
    "tags": []
   },
   "outputs": [
    {
     "data": {
      "text/html": [
       "<div>\n",
       "<style scoped>\n",
       "    .dataframe tbody tr th:only-of-type {\n",
       "        vertical-align: middle;\n",
       "    }\n",
       "\n",
       "    .dataframe tbody tr th {\n",
       "        vertical-align: top;\n",
       "    }\n",
       "\n",
       "    .dataframe thead th {\n",
       "        text-align: right;\n",
       "    }\n",
       "</style>\n",
       "<table border=\"1\" class=\"dataframe\">\n",
       "  <thead>\n",
       "    <tr style=\"text-align: right;\">\n",
       "      <th>CLV Category</th>\n",
       "      <th>High</th>\n",
       "      <th>Low</th>\n",
       "      <th>Medium</th>\n",
       "      <th>Very Low</th>\n",
       "    </tr>\n",
       "    <tr>\n",
       "      <th>Satisfaction Level</th>\n",
       "      <th></th>\n",
       "      <th></th>\n",
       "      <th></th>\n",
       "      <th></th>\n",
       "    </tr>\n",
       "  </thead>\n",
       "  <tbody>\n",
       "    <tr>\n",
       "      <th>Neutral</th>\n",
       "      <td>0</td>\n",
       "      <td>1</td>\n",
       "      <td>50</td>\n",
       "      <td>56</td>\n",
       "    </tr>\n",
       "    <tr>\n",
       "      <th>Satisfied</th>\n",
       "      <td>89</td>\n",
       "      <td>0</td>\n",
       "      <td>36</td>\n",
       "      <td>0</td>\n",
       "    </tr>\n",
       "    <tr>\n",
       "      <th>Unsatisfied</th>\n",
       "      <td>0</td>\n",
       "      <td>86</td>\n",
       "      <td>0</td>\n",
       "      <td>32</td>\n",
       "    </tr>\n",
       "  </tbody>\n",
       "</table>\n",
       "</div>"
      ],
      "text/plain": [
       "CLV Category        High  Low  Medium  Very Low\n",
       "Satisfaction Level                             \n",
       "Neutral                0    1      50        56\n",
       "Satisfied             89    0      36         0\n",
       "Unsatisfied            0   86       0        32"
      ]
     },
     "execution_count": 19,
     "metadata": {},
     "output_type": "execute_result"
    }
   ],
   "source": [
    "pd.crosstab(df['Satisfaction Level'], df['CLV Category'])"
   ]
  },
  {
   "cell_type": "code",
   "execution_count": 20,
   "id": "7ebad5eb",
   "metadata": {
    "execution": {
     "iopub.execute_input": "2025-07-30T14:06:20.506387Z",
     "iopub.status.busy": "2025-07-30T14:06:20.506068Z",
     "iopub.status.idle": "2025-07-30T14:06:20.703388Z",
     "shell.execute_reply": "2025-07-30T14:06:20.702323Z"
    },
    "executionInfo": {
     "elapsed": 281,
     "status": "ok",
     "timestamp": 1753621481295,
     "user": {
      "displayName": "Ahsan Mubarak",
      "userId": "13952536471194166156"
     },
     "user_tz": -420
    },
    "id": "hlarqbTph2v-",
    "outputId": "28087295-7b31-4b8e-e0fc-ee63b62abe18",
    "papermill": {
     "duration": 0.211004,
     "end_time": "2025-07-30T14:06:20.705231",
     "exception": false,
     "start_time": "2025-07-30T14:06:20.494227",
     "status": "completed"
    },
    "tags": []
   },
   "outputs": [
    {
     "data": {
      "image/png": "[encoded data removed]",
      "text/plain": [
       "<Figure size 800x500 with 1 Axes>"
      ]
     },
     "metadata": {},
     "output_type": "display_data"
    }
   ],
   "source": [
    "clv_by_satisfaction = pd.crosstab(df['Satisfaction Level'], df['CLV Category'])\n",
    "clv_by_satisfaction = clv_by_satisfaction[['Very Low', 'Low', 'Medium', 'High']]\n",
    "\n",
    "colors = ['#ccece6', '#66c2a4', '#238b45', '#00441b']\n",
    "\n",
    "ax = clv_by_satisfaction.plot(\n",
    "    kind='barh',\n",
    "    stacked=True,\n",
    "    figsize=(8, 5),\n",
    "    color=colors\n",
    ")\n",
    "\n",
    "ax.set_yticks(range(len(clv_by_satisfaction.index)))\n",
    "ax.set_yticklabels(clv_by_satisfaction.index)\n",
    "\n",
    "for container in ax.containers:\n",
    "    for i, patch in enumerate(container.patches):\n",
    "        width = patch.get_width()\n",
    "        if width > 0:\n",
    "\n",
    "            x = patch.get_x() + width / 2\n",
    "            y = patch.get_y() + patch.get_height() / 2\n",
    "            clv_category = clv_by_satisfaction.columns[ax.containers.index(container)]\n",
    "            ax.text(\n",
    "                x,\n",
    "                y,\n",
    "                f\"{clv_category}\",\n",
    "                va='center',\n",
    "                ha='center',\n",
    "                color='black',\n",
    "                fontsize=9\n",
    "            )\n",
    "\n",
    "\n",
    "plt.title('CLV Category by Satisfaction Category')\n",
    "plt.xlabel('')\n",
    "plt.ylabel('Satisfaction Level')\n",
    "\n",
    "for side in ['top', 'right']:\n",
    "    ax.spines[side].set_visible(False)\n",
    "ax.spines['left'].set_color('gray')\n",
    "ax.spines['bottom'].set_color('gray')\n",
    "ax.spines['left'].set_linewidth(0.8)\n",
    "ax.spines['bottom'].set_linewidth(0.8)\n",
    "\n",
    "plt.grid(False)\n",
    "plt.legend().remove()\n",
    "plt.tight_layout()\n",
    "plt.show()"
   ]
  },
  {
   "cell_type": "markdown",
   "id": "7aae51b3",
   "metadata": {
    "papermill": {
     "duration": 0.011416,
     "end_time": "2025-07-30T14:06:20.728558",
     "exception": false,
     "start_time": "2025-07-30T14:06:20.717142",
     "status": "completed"
    },
    "tags": []
   },
   "source": [
    "**Satisfaction Level vs CLV**\n",
    "\n",
    "All High-CLV customers report being satisfied with the service.  \n",
    "Meanwhile, Medium-CLV customers are split: 58% are satisfied, while 42% are neutral.\n",
    "\n",
    "**Interpretation:** \n",
    "\n",
    "Customer satisfaction plays a critical role in driving value. Improving satisfaction could directly impact loyalty and revenue."
   ]
  },
  {
   "cell_type": "code",
   "execution_count": 21,
   "id": "1f0b9fca",
   "metadata": {
    "execution": {
     "iopub.execute_input": "2025-07-30T14:06:20.752968Z",
     "iopub.status.busy": "2025-07-30T14:06:20.752162Z",
     "iopub.status.idle": "2025-07-30T14:06:20.760852Z",
     "shell.execute_reply": "2025-07-30T14:06:20.759399Z"
    },
    "executionInfo": {
     "elapsed": 14,
     "status": "ok",
     "timestamp": 1753621960097,
     "user": {
      "displayName": "Ahsan Mubarak",
      "userId": "13952536471194166156"
     },
     "user_tz": -420
    },
    "id": "dmU2XMHK_GYd",
    "outputId": "b02c88d8-cf40-47b4-eeb7-5ed3013bcce3",
    "papermill": {
     "duration": 0.022871,
     "end_time": "2025-07-30T14:06:20.762732",
     "exception": false,
     "start_time": "2025-07-30T14:06:20.739861",
     "status": "completed"
    },
    "tags": []
   },
   "outputs": [
    {
     "data": {
      "text/plain": [
       "CLV Category\n",
       "High        18.528090\n",
       "Low         10.977011\n",
       "Medium      12.674419\n",
       "Very Low     8.136364\n",
       "Name: Items Purchased, dtype: float64"
      ]
     },
     "execution_count": 21,
     "metadata": {},
     "output_type": "execute_result"
    }
   ],
   "source": [
    "df.groupby('CLV Category')['Items Purchased'].mean()"
   ]
  },
  {
   "cell_type": "code",
   "execution_count": 22,
   "id": "d72ab64c",
   "metadata": {
    "execution": {
     "iopub.execute_input": "2025-07-30T14:06:20.787263Z",
     "iopub.status.busy": "2025-07-30T14:06:20.786200Z",
     "iopub.status.idle": "2025-07-30T14:06:20.802595Z",
     "shell.execute_reply": "2025-07-30T14:06:20.801619Z"
    },
    "executionInfo": {
     "elapsed": 285,
     "status": "ok",
     "timestamp": 1753621971994,
     "user": {
      "displayName": "Ahsan Mubarak",
      "userId": "13952536471194166156"
     },
     "user_tz": -420
    },
    "id": "vljCesLPA7yD",
    "outputId": "9d73ab6e-5e81-4bc6-d832-01efb1af75a0",
    "papermill": {
     "duration": 0.029942,
     "end_time": "2025-07-30T14:06:20.804017",
     "exception": false,
     "start_time": "2025-07-30T14:06:20.774075",
     "status": "completed"
    },
    "tags": []
   },
   "outputs": [
    {
     "data": {
      "text/html": [
       "<div>\n",
       "<style scoped>\n",
       "    .dataframe tbody tr th:only-of-type {\n",
       "        vertical-align: middle;\n",
       "    }\n",
       "\n",
       "    .dataframe tbody tr th {\n",
       "        vertical-align: top;\n",
       "    }\n",
       "\n",
       "    .dataframe thead th {\n",
       "        text-align: right;\n",
       "    }\n",
       "</style>\n",
       "<table border=\"1\" class=\"dataframe\">\n",
       "  <thead>\n",
       "    <tr style=\"text-align: right;\">\n",
       "      <th></th>\n",
       "      <th>Customer ID</th>\n",
       "      <th>Gender</th>\n",
       "      <th>Age</th>\n",
       "      <th>City</th>\n",
       "      <th>Membership Type</th>\n",
       "      <th>Total Spend</th>\n",
       "      <th>Items Purchased</th>\n",
       "      <th>Average Rating</th>\n",
       "      <th>Discount Applied</th>\n",
       "      <th>Days Since Last Purchase</th>\n",
       "      <th>Satisfaction Level</th>\n",
       "      <th>CLV</th>\n",
       "      <th>CLV Category</th>\n",
       "    </tr>\n",
       "  </thead>\n",
       "  <tbody>\n",
       "    <tr>\n",
       "      <th>0</th>\n",
       "      <td>101</td>\n",
       "      <td>Female</td>\n",
       "      <td>29</td>\n",
       "      <td>New York</td>\n",
       "      <td>Gold</td>\n",
       "      <td>1120.20</td>\n",
       "      <td>14</td>\n",
       "      <td>4.6</td>\n",
       "      <td>True</td>\n",
       "      <td>25</td>\n",
       "      <td>Satisfied</td>\n",
       "      <td>1120.20</td>\n",
       "      <td>Medium</td>\n",
       "    </tr>\n",
       "    <tr>\n",
       "      <th>1</th>\n",
       "      <td>102</td>\n",
       "      <td>Male</td>\n",
       "      <td>34</td>\n",
       "      <td>Los Angeles</td>\n",
       "      <td>Silver</td>\n",
       "      <td>780.50</td>\n",
       "      <td>11</td>\n",
       "      <td>4.1</td>\n",
       "      <td>False</td>\n",
       "      <td>18</td>\n",
       "      <td>Neutral</td>\n",
       "      <td>780.50</td>\n",
       "      <td>Medium</td>\n",
       "    </tr>\n",
       "    <tr>\n",
       "      <th>2</th>\n",
       "      <td>103</td>\n",
       "      <td>Female</td>\n",
       "      <td>43</td>\n",
       "      <td>Chicago</td>\n",
       "      <td>Bronze</td>\n",
       "      <td>510.75</td>\n",
       "      <td>9</td>\n",
       "      <td>3.4</td>\n",
       "      <td>True</td>\n",
       "      <td>42</td>\n",
       "      <td>Unsatisfied</td>\n",
       "      <td>510.75</td>\n",
       "      <td>Low</td>\n",
       "    </tr>\n",
       "    <tr>\n",
       "      <th>3</th>\n",
       "      <td>104</td>\n",
       "      <td>Male</td>\n",
       "      <td>30</td>\n",
       "      <td>San Francisco</td>\n",
       "      <td>Gold</td>\n",
       "      <td>1480.30</td>\n",
       "      <td>19</td>\n",
       "      <td>4.7</td>\n",
       "      <td>False</td>\n",
       "      <td>12</td>\n",
       "      <td>Satisfied</td>\n",
       "      <td>1480.30</td>\n",
       "      <td>High</td>\n",
       "    </tr>\n",
       "    <tr>\n",
       "      <th>4</th>\n",
       "      <td>105</td>\n",
       "      <td>Male</td>\n",
       "      <td>27</td>\n",
       "      <td>Miami</td>\n",
       "      <td>Silver</td>\n",
       "      <td>720.40</td>\n",
       "      <td>13</td>\n",
       "      <td>4.0</td>\n",
       "      <td>True</td>\n",
       "      <td>55</td>\n",
       "      <td>Unsatisfied</td>\n",
       "      <td>720.40</td>\n",
       "      <td>Low</td>\n",
       "    </tr>\n",
       "    <tr>\n",
       "      <th>...</th>\n",
       "      <td>...</td>\n",
       "      <td>...</td>\n",
       "      <td>...</td>\n",
       "      <td>...</td>\n",
       "      <td>...</td>\n",
       "      <td>...</td>\n",
       "      <td>...</td>\n",
       "      <td>...</td>\n",
       "      <td>...</td>\n",
       "      <td>...</td>\n",
       "      <td>...</td>\n",
       "      <td>...</td>\n",
       "      <td>...</td>\n",
       "    </tr>\n",
       "    <tr>\n",
       "      <th>345</th>\n",
       "      <td>446</td>\n",
       "      <td>Male</td>\n",
       "      <td>32</td>\n",
       "      <td>Miami</td>\n",
       "      <td>Silver</td>\n",
       "      <td>660.30</td>\n",
       "      <td>10</td>\n",
       "      <td>3.8</td>\n",
       "      <td>True</td>\n",
       "      <td>42</td>\n",
       "      <td>Unsatisfied</td>\n",
       "      <td>660.30</td>\n",
       "      <td>Low</td>\n",
       "    </tr>\n",
       "    <tr>\n",
       "      <th>346</th>\n",
       "      <td>447</td>\n",
       "      <td>Female</td>\n",
       "      <td>36</td>\n",
       "      <td>Houston</td>\n",
       "      <td>Bronze</td>\n",
       "      <td>470.50</td>\n",
       "      <td>8</td>\n",
       "      <td>3.0</td>\n",
       "      <td>False</td>\n",
       "      <td>27</td>\n",
       "      <td>Neutral</td>\n",
       "      <td>470.50</td>\n",
       "      <td>Very Low</td>\n",
       "    </tr>\n",
       "    <tr>\n",
       "      <th>347</th>\n",
       "      <td>448</td>\n",
       "      <td>Female</td>\n",
       "      <td>30</td>\n",
       "      <td>New York</td>\n",
       "      <td>Gold</td>\n",
       "      <td>1190.80</td>\n",
       "      <td>16</td>\n",
       "      <td>4.5</td>\n",
       "      <td>True</td>\n",
       "      <td>28</td>\n",
       "      <td>Satisfied</td>\n",
       "      <td>1190.80</td>\n",
       "      <td>High</td>\n",
       "    </tr>\n",
       "    <tr>\n",
       "      <th>348</th>\n",
       "      <td>449</td>\n",
       "      <td>Male</td>\n",
       "      <td>34</td>\n",
       "      <td>Los Angeles</td>\n",
       "      <td>Silver</td>\n",
       "      <td>780.20</td>\n",
       "      <td>11</td>\n",
       "      <td>4.2</td>\n",
       "      <td>False</td>\n",
       "      <td>21</td>\n",
       "      <td>Neutral</td>\n",
       "      <td>780.20</td>\n",
       "      <td>Medium</td>\n",
       "    </tr>\n",
       "    <tr>\n",
       "      <th>349</th>\n",
       "      <td>450</td>\n",
       "      <td>Female</td>\n",
       "      <td>43</td>\n",
       "      <td>Chicago</td>\n",
       "      <td>Bronze</td>\n",
       "      <td>515.75</td>\n",
       "      <td>10</td>\n",
       "      <td>3.3</td>\n",
       "      <td>True</td>\n",
       "      <td>49</td>\n",
       "      <td>Unsatisfied</td>\n",
       "      <td>515.75</td>\n",
       "      <td>Low</td>\n",
       "    </tr>\n",
       "  </tbody>\n",
       "</table>\n",
       "<p>350 rows × 13 columns</p>\n",
       "</div>"
      ],
      "text/plain": [
       "     Customer ID  Gender  Age           City Membership Type  Total Spend  \\\n",
       "0            101  Female   29       New York            Gold      1120.20   \n",
       "1            102    Male   34    Los Angeles          Silver       780.50   \n",
       "2            103  Female   43        Chicago          Bronze       510.75   \n",
       "3            104    Male   30  San Francisco            Gold      1480.30   \n",
       "4            105    Male   27          Miami          Silver       720.40   \n",
       "..           ...     ...  ...            ...             ...          ...   \n",
       "345          446    Male   32          Miami          Silver       660.30   \n",
       "346          447  Female   36        Houston          Bronze       470.50   \n",
       "347          448  Female   30       New York            Gold      1190.80   \n",
       "348          449    Male   34    Los Angeles          Silver       780.20   \n",
       "349          450  Female   43        Chicago          Bronze       515.75   \n",
       "\n",
       "     Items Purchased  Average Rating  Discount Applied  \\\n",
       "0                 14             4.6              True   \n",
       "1                 11             4.1             False   \n",
       "2                  9             3.4              True   \n",
       "3                 19             4.7             False   \n",
       "4                 13             4.0              True   \n",
       "..               ...             ...               ...   \n",
       "345               10             3.8              True   \n",
       "346                8             3.0             False   \n",
       "347               16             4.5              True   \n",
       "348               11             4.2             False   \n",
       "349               10             3.3              True   \n",
       "\n",
       "     Days Since Last Purchase Satisfaction Level      CLV CLV Category  \n",
       "0                          25          Satisfied  1120.20       Medium  \n",
       "1                          18            Neutral   780.50       Medium  \n",
       "2                          42        Unsatisfied   510.75          Low  \n",
       "3                          12          Satisfied  1480.30         High  \n",
       "4                          55        Unsatisfied   720.40          Low  \n",
       "..                        ...                ...      ...          ...  \n",
       "345                        42        Unsatisfied   660.30          Low  \n",
       "346                        27            Neutral   470.50     Very Low  \n",
       "347                        28          Satisfied  1190.80         High  \n",
       "348                        21            Neutral   780.20       Medium  \n",
       "349                        49        Unsatisfied   515.75          Low  \n",
       "\n",
       "[350 rows x 13 columns]"
      ]
     },
     "execution_count": 22,
     "metadata": {},
     "output_type": "execute_result"
    }
   ],
   "source": [
    "df"
   ]
  },
  {
   "cell_type": "code",
   "execution_count": 23,
   "id": "805c7899",
   "metadata": {
    "execution": {
     "iopub.execute_input": "2025-07-30T14:06:20.828704Z",
     "iopub.status.busy": "2025-07-30T14:06:20.828324Z",
     "iopub.status.idle": "2025-07-30T14:06:20.836634Z",
     "shell.execute_reply": "2025-07-30T14:06:20.835639Z"
    },
    "executionInfo": {
     "elapsed": 346,
     "status": "ok",
     "timestamp": 1753621986591,
     "user": {
      "displayName": "Ahsan Mubarak",
      "userId": "13952536471194166156"
     },
     "user_tz": -420
    },
    "id": "8Ilu2H8QA6Qa",
    "outputId": "b4a044d9-5f0b-4d74-dd34-1edb149d5893",
    "papermill": {
     "duration": 0.022382,
     "end_time": "2025-07-30T14:06:20.838200",
     "exception": false,
     "start_time": "2025-07-30T14:06:20.815818",
     "status": "completed"
    },
    "tags": []
   },
   "outputs": [
    {
     "data": {
      "text/plain": [
       "CLV Category\n",
       "High        15.292135\n",
       "Low         43.597701\n",
       "Medium      18.848837\n",
       "Very Low    28.761364\n",
       "Name: Days Since Last Purchase, dtype: float64"
      ]
     },
     "execution_count": 23,
     "metadata": {},
     "output_type": "execute_result"
    }
   ],
   "source": [
    "df.groupby('CLV Category')['Days Since Last Purchase'].mean()"
   ]
  },
  {
   "cell_type": "code",
   "execution_count": 24,
   "id": "3c7e1a13",
   "metadata": {
    "execution": {
     "iopub.execute_input": "2025-07-30T14:06:20.863847Z",
     "iopub.status.busy": "2025-07-30T14:06:20.863555Z",
     "iopub.status.idle": "2025-07-30T14:06:21.100380Z",
     "shell.execute_reply": "2025-07-30T14:06:21.099110Z"
    },
    "executionInfo": {
     "elapsed": 461,
     "status": "ok",
     "timestamp": 1753623458304,
     "user": {
      "displayName": "Ahsan Mubarak",
      "userId": "13952536471194166156"
     },
     "user_tz": -420
    },
    "id": "TRDwf37JBDga",
    "outputId": "f3b1c280-7ea4-4d91-db81-3298be815bdc",
    "papermill": {
     "duration": 0.251367,
     "end_time": "2025-07-30T14:06:21.102432",
     "exception": false,
     "start_time": "2025-07-30T14:06:20.851065",
     "status": "completed"
    },
    "tags": []
   },
   "outputs": [
    {
     "name": "stderr",
     "output_type": "stream",
     "text": [
      "/usr/local/lib/python3.11/dist-packages/seaborn/_oldcore.py:1119: FutureWarning: use_inf_as_na option is deprecated and will be removed in a future version. Convert inf values to NaN before operating instead.\n",
      "  with pd.option_context('mode.use_inf_as_na', True):\n",
      "/usr/local/lib/python3.11/dist-packages/seaborn/_oldcore.py:1119: FutureWarning: use_inf_as_na option is deprecated and will be removed in a future version. Convert inf values to NaN before operating instead.\n",
      "  with pd.option_context('mode.use_inf_as_na', True):\n",
      "/usr/local/lib/python3.11/dist-packages/seaborn/_oldcore.py:1075: FutureWarning: When grouping with a length-1 list-like, you will need to pass a length-1 tuple to get_group in a future version of pandas. Pass `(name,)` instead of `name` to silence this warning.\n",
      "  data_subset = grouped_data.get_group(pd_key)\n"
     ]
    },
    {
     "data": {
      "image/png": "[encoded data removed]",
      "text/plain": [
       "<Figure size 800x500 with 1 Axes>"
      ]
     },
     "metadata": {},
     "output_type": "display_data"
    }
   ],
   "source": [
    "ordered_clv = ['Very Low', 'Low', 'Medium', 'High']\n",
    "df['CLV Category'] = pd.Categorical(df['CLV Category'], categories=ordered_clv, ordered=True)\n",
    "\n",
    "plt.figure(figsize=(8, 5))\n",
    "sns.stripplot(data=df, x='CLV Category', y='Days Since Last Purchase',\n",
    "              color='#06D6A0', alpha=0.7, jitter=0.3)\n",
    "\n",
    "plt.title('Days Since Last Purchase by CLV Category')\n",
    "plt.xlabel('')\n",
    "plt.ylabel('Days Since Last Purchase')\n",
    "\n",
    "ax = plt.gca()\n",
    "for side in ['top', 'right']:\n",
    "    ax.spines[side].set_visible(False)\n",
    "ax.spines['left'].set_color('gray')\n",
    "ax.spines['bottom'].set_color('gray')\n",
    "ax.spines['left'].set_linewidth(0.8)\n",
    "ax.spines['bottom'].set_linewidth(0.8)\n",
    "\n",
    "plt.grid(False)\n",
    "plt.tight_layout()\n",
    "plt.show()"
   ]
  },
  {
   "cell_type": "code",
   "execution_count": 25,
   "id": "9a6e6ed9",
   "metadata": {
    "execution": {
     "iopub.execute_input": "2025-07-30T14:06:21.131055Z",
     "iopub.status.busy": "2025-07-30T14:06:21.130742Z",
     "iopub.status.idle": "2025-07-30T14:06:21.148037Z",
     "shell.execute_reply": "2025-07-30T14:06:21.147024Z"
    },
    "executionInfo": {
     "elapsed": 172,
     "status": "ok",
     "timestamp": 1753622139886,
     "user": {
      "displayName": "Ahsan Mubarak",
      "userId": "13952536471194166156"
     },
     "user_tz": -420
    },
    "id": "DLaM5d5YBkga",
    "outputId": "6ab66826-44d0-4ca8-bf0c-dc4596219938",
    "papermill": {
     "duration": 0.033264,
     "end_time": "2025-07-30T14:06:21.149535",
     "exception": false,
     "start_time": "2025-07-30T14:06:21.116271",
     "status": "completed"
    },
    "tags": []
   },
   "outputs": [
    {
     "data": {
      "text/html": [
       "<div>\n",
       "<style scoped>\n",
       "    .dataframe tbody tr th:only-of-type {\n",
       "        vertical-align: middle;\n",
       "    }\n",
       "\n",
       "    .dataframe tbody tr th {\n",
       "        vertical-align: top;\n",
       "    }\n",
       "\n",
       "    .dataframe thead th {\n",
       "        text-align: right;\n",
       "    }\n",
       "</style>\n",
       "<table border=\"1\" class=\"dataframe\">\n",
       "  <thead>\n",
       "    <tr style=\"text-align: right;\">\n",
       "      <th></th>\n",
       "      <th>Customer ID</th>\n",
       "      <th>Gender</th>\n",
       "      <th>Age</th>\n",
       "      <th>City</th>\n",
       "      <th>Membership Type</th>\n",
       "      <th>Total Spend</th>\n",
       "      <th>Items Purchased</th>\n",
       "      <th>Average Rating</th>\n",
       "      <th>Discount Applied</th>\n",
       "      <th>Days Since Last Purchase</th>\n",
       "      <th>Satisfaction Level</th>\n",
       "      <th>CLV</th>\n",
       "      <th>CLV Category</th>\n",
       "    </tr>\n",
       "  </thead>\n",
       "  <tbody>\n",
       "    <tr>\n",
       "      <th>0</th>\n",
       "      <td>101</td>\n",
       "      <td>Female</td>\n",
       "      <td>29</td>\n",
       "      <td>New York</td>\n",
       "      <td>Gold</td>\n",
       "      <td>1120.20</td>\n",
       "      <td>14</td>\n",
       "      <td>4.6</td>\n",
       "      <td>True</td>\n",
       "      <td>25</td>\n",
       "      <td>Satisfied</td>\n",
       "      <td>1120.20</td>\n",
       "      <td>Medium</td>\n",
       "    </tr>\n",
       "    <tr>\n",
       "      <th>1</th>\n",
       "      <td>102</td>\n",
       "      <td>Male</td>\n",
       "      <td>34</td>\n",
       "      <td>Los Angeles</td>\n",
       "      <td>Silver</td>\n",
       "      <td>780.50</td>\n",
       "      <td>11</td>\n",
       "      <td>4.1</td>\n",
       "      <td>False</td>\n",
       "      <td>18</td>\n",
       "      <td>Neutral</td>\n",
       "      <td>780.50</td>\n",
       "      <td>Medium</td>\n",
       "    </tr>\n",
       "    <tr>\n",
       "      <th>2</th>\n",
       "      <td>103</td>\n",
       "      <td>Female</td>\n",
       "      <td>43</td>\n",
       "      <td>Chicago</td>\n",
       "      <td>Bronze</td>\n",
       "      <td>510.75</td>\n",
       "      <td>9</td>\n",
       "      <td>3.4</td>\n",
       "      <td>True</td>\n",
       "      <td>42</td>\n",
       "      <td>Unsatisfied</td>\n",
       "      <td>510.75</td>\n",
       "      <td>Low</td>\n",
       "    </tr>\n",
       "    <tr>\n",
       "      <th>3</th>\n",
       "      <td>104</td>\n",
       "      <td>Male</td>\n",
       "      <td>30</td>\n",
       "      <td>San Francisco</td>\n",
       "      <td>Gold</td>\n",
       "      <td>1480.30</td>\n",
       "      <td>19</td>\n",
       "      <td>4.7</td>\n",
       "      <td>False</td>\n",
       "      <td>12</td>\n",
       "      <td>Satisfied</td>\n",
       "      <td>1480.30</td>\n",
       "      <td>High</td>\n",
       "    </tr>\n",
       "    <tr>\n",
       "      <th>4</th>\n",
       "      <td>105</td>\n",
       "      <td>Male</td>\n",
       "      <td>27</td>\n",
       "      <td>Miami</td>\n",
       "      <td>Silver</td>\n",
       "      <td>720.40</td>\n",
       "      <td>13</td>\n",
       "      <td>4.0</td>\n",
       "      <td>True</td>\n",
       "      <td>55</td>\n",
       "      <td>Unsatisfied</td>\n",
       "      <td>720.40</td>\n",
       "      <td>Low</td>\n",
       "    </tr>\n",
       "    <tr>\n",
       "      <th>...</th>\n",
       "      <td>...</td>\n",
       "      <td>...</td>\n",
       "      <td>...</td>\n",
       "      <td>...</td>\n",
       "      <td>...</td>\n",
       "      <td>...</td>\n",
       "      <td>...</td>\n",
       "      <td>...</td>\n",
       "      <td>...</td>\n",
       "      <td>...</td>\n",
       "      <td>...</td>\n",
       "      <td>...</td>\n",
       "      <td>...</td>\n",
       "    </tr>\n",
       "    <tr>\n",
       "      <th>345</th>\n",
       "      <td>446</td>\n",
       "      <td>Male</td>\n",
       "      <td>32</td>\n",
       "      <td>Miami</td>\n",
       "      <td>Silver</td>\n",
       "      <td>660.30</td>\n",
       "      <td>10</td>\n",
       "      <td>3.8</td>\n",
       "      <td>True</td>\n",
       "      <td>42</td>\n",
       "      <td>Unsatisfied</td>\n",
       "      <td>660.30</td>\n",
       "      <td>Low</td>\n",
       "    </tr>\n",
       "    <tr>\n",
       "      <th>346</th>\n",
       "      <td>447</td>\n",
       "      <td>Female</td>\n",
       "      <td>36</td>\n",
       "      <td>Houston</td>\n",
       "      <td>Bronze</td>\n",
       "      <td>470.50</td>\n",
       "      <td>8</td>\n",
       "      <td>3.0</td>\n",
       "      <td>False</td>\n",
       "      <td>27</td>\n",
       "      <td>Neutral</td>\n",
       "      <td>470.50</td>\n",
       "      <td>Very Low</td>\n",
       "    </tr>\n",
       "    <tr>\n",
       "      <th>347</th>\n",
       "      <td>448</td>\n",
       "      <td>Female</td>\n",
       "      <td>30</td>\n",
       "      <td>New York</td>\n",
       "      <td>Gold</td>\n",
       "      <td>1190.80</td>\n",
       "      <td>16</td>\n",
       "      <td>4.5</td>\n",
       "      <td>True</td>\n",
       "      <td>28</td>\n",
       "      <td>Satisfied</td>\n",
       "      <td>1190.80</td>\n",
       "      <td>High</td>\n",
       "    </tr>\n",
       "    <tr>\n",
       "      <th>348</th>\n",
       "      <td>449</td>\n",
       "      <td>Male</td>\n",
       "      <td>34</td>\n",
       "      <td>Los Angeles</td>\n",
       "      <td>Silver</td>\n",
       "      <td>780.20</td>\n",
       "      <td>11</td>\n",
       "      <td>4.2</td>\n",
       "      <td>False</td>\n",
       "      <td>21</td>\n",
       "      <td>Neutral</td>\n",
       "      <td>780.20</td>\n",
       "      <td>Medium</td>\n",
       "    </tr>\n",
       "    <tr>\n",
       "      <th>349</th>\n",
       "      <td>450</td>\n",
       "      <td>Female</td>\n",
       "      <td>43</td>\n",
       "      <td>Chicago</td>\n",
       "      <td>Bronze</td>\n",
       "      <td>515.75</td>\n",
       "      <td>10</td>\n",
       "      <td>3.3</td>\n",
       "      <td>True</td>\n",
       "      <td>49</td>\n",
       "      <td>Unsatisfied</td>\n",
       "      <td>515.75</td>\n",
       "      <td>Low</td>\n",
       "    </tr>\n",
       "  </tbody>\n",
       "</table>\n",
       "<p>350 rows × 13 columns</p>\n",
       "</div>"
      ],
      "text/plain": [
       "     Customer ID  Gender  Age           City Membership Type  Total Spend  \\\n",
       "0            101  Female   29       New York            Gold      1120.20   \n",
       "1            102    Male   34    Los Angeles          Silver       780.50   \n",
       "2            103  Female   43        Chicago          Bronze       510.75   \n",
       "3            104    Male   30  San Francisco            Gold      1480.30   \n",
       "4            105    Male   27          Miami          Silver       720.40   \n",
       "..           ...     ...  ...            ...             ...          ...   \n",
       "345          446    Male   32          Miami          Silver       660.30   \n",
       "346          447  Female   36        Houston          Bronze       470.50   \n",
       "347          448  Female   30       New York            Gold      1190.80   \n",
       "348          449    Male   34    Los Angeles          Silver       780.20   \n",
       "349          450  Female   43        Chicago          Bronze       515.75   \n",
       "\n",
       "     Items Purchased  Average Rating  Discount Applied  \\\n",
       "0                 14             4.6              True   \n",
       "1                 11             4.1             False   \n",
       "2                  9             3.4              True   \n",
       "3                 19             4.7             False   \n",
       "4                 13             4.0              True   \n",
       "..               ...             ...               ...   \n",
       "345               10             3.8              True   \n",
       "346                8             3.0             False   \n",
       "347               16             4.5              True   \n",
       "348               11             4.2             False   \n",
       "349               10             3.3              True   \n",
       "\n",
       "     Days Since Last Purchase Satisfaction Level      CLV CLV Category  \n",
       "0                          25          Satisfied  1120.20       Medium  \n",
       "1                          18            Neutral   780.50       Medium  \n",
       "2                          42        Unsatisfied   510.75          Low  \n",
       "3                          12          Satisfied  1480.30         High  \n",
       "4                          55        Unsatisfied   720.40          Low  \n",
       "..                        ...                ...      ...          ...  \n",
       "345                        42        Unsatisfied   660.30          Low  \n",
       "346                        27            Neutral   470.50     Very Low  \n",
       "347                        28          Satisfied  1190.80         High  \n",
       "348                        21            Neutral   780.20       Medium  \n",
       "349                        49        Unsatisfied   515.75          Low  \n",
       "\n",
       "[350 rows x 13 columns]"
      ]
     },
     "execution_count": 25,
     "metadata": {},
     "output_type": "execute_result"
    }
   ],
   "source": [
    "df"
   ]
  },
  {
   "cell_type": "code",
   "execution_count": 26,
   "id": "25cdb884",
   "metadata": {
    "execution": {
     "iopub.execute_input": "2025-07-30T14:06:21.177937Z",
     "iopub.status.busy": "2025-07-30T14:06:21.177618Z",
     "iopub.status.idle": "2025-07-30T14:06:21.206110Z",
     "shell.execute_reply": "2025-07-30T14:06:21.205050Z"
    },
    "executionInfo": {
     "elapsed": 27,
     "status": "ok",
     "timestamp": 1753624540965,
     "user": {
      "displayName": "Ahsan Mubarak",
      "userId": "13952536471194166156"
     },
     "user_tz": -420
    },
    "id": "VJ3sDLS6IJF4",
    "outputId": "71556859-ac9a-4c5f-c15d-e090964c15d7",
    "papermill": {
     "duration": 0.044658,
     "end_time": "2025-07-30T14:06:21.207657",
     "exception": false,
     "start_time": "2025-07-30T14:06:21.162999",
     "status": "completed"
    },
    "tags": []
   },
   "outputs": [
    {
     "data": {
      "text/html": [
       "<div>\n",
       "<style scoped>\n",
       "    .dataframe tbody tr th:only-of-type {\n",
       "        vertical-align: middle;\n",
       "    }\n",
       "\n",
       "    .dataframe tbody tr th {\n",
       "        vertical-align: top;\n",
       "    }\n",
       "\n",
       "    .dataframe thead th {\n",
       "        text-align: right;\n",
       "    }\n",
       "</style>\n",
       "<table border=\"1\" class=\"dataframe\">\n",
       "  <thead>\n",
       "    <tr style=\"text-align: right;\">\n",
       "      <th>CLV Category</th>\n",
       "      <th>Very Low</th>\n",
       "      <th>Low</th>\n",
       "      <th>Medium</th>\n",
       "      <th>High</th>\n",
       "    </tr>\n",
       "    <tr>\n",
       "      <th>City</th>\n",
       "      <th></th>\n",
       "      <th></th>\n",
       "      <th></th>\n",
       "      <th></th>\n",
       "    </tr>\n",
       "  </thead>\n",
       "  <tbody>\n",
       "    <tr>\n",
       "      <th>Chicago</th>\n",
       "      <td>30</td>\n",
       "      <td>28</td>\n",
       "      <td>0</td>\n",
       "      <td>0</td>\n",
       "    </tr>\n",
       "    <tr>\n",
       "      <th>Houston</th>\n",
       "      <td>58</td>\n",
       "      <td>0</td>\n",
       "      <td>0</td>\n",
       "      <td>0</td>\n",
       "    </tr>\n",
       "    <tr>\n",
       "      <th>Los Angeles</th>\n",
       "      <td>0</td>\n",
       "      <td>1</td>\n",
       "      <td>58</td>\n",
       "      <td>0</td>\n",
       "    </tr>\n",
       "    <tr>\n",
       "      <th>Miami</th>\n",
       "      <td>0</td>\n",
       "      <td>58</td>\n",
       "      <td>0</td>\n",
       "      <td>0</td>\n",
       "    </tr>\n",
       "    <tr>\n",
       "      <th>New York</th>\n",
       "      <td>0</td>\n",
       "      <td>0</td>\n",
       "      <td>28</td>\n",
       "      <td>31</td>\n",
       "    </tr>\n",
       "    <tr>\n",
       "      <th>San Francisco</th>\n",
       "      <td>0</td>\n",
       "      <td>0</td>\n",
       "      <td>0</td>\n",
       "      <td>58</td>\n",
       "    </tr>\n",
       "  </tbody>\n",
       "</table>\n",
       "</div>"
      ],
      "text/plain": [
       "CLV Category   Very Low  Low  Medium  High\n",
       "City                                      \n",
       "Chicago              30   28       0     0\n",
       "Houston              58    0       0     0\n",
       "Los Angeles           0    1      58     0\n",
       "Miami                 0   58       0     0\n",
       "New York              0    0      28    31\n",
       "San Francisco         0    0       0    58"
      ]
     },
     "execution_count": 26,
     "metadata": {},
     "output_type": "execute_result"
    }
   ],
   "source": [
    "pd.crosstab(df['City'], df['CLV Category'])\n"
   ]
  },
  {
   "cell_type": "code",
   "execution_count": 27,
   "id": "3d940b41",
   "metadata": {
    "execution": {
     "iopub.execute_input": "2025-07-30T14:06:21.235685Z",
     "iopub.status.busy": "2025-07-30T14:06:21.235338Z",
     "iopub.status.idle": "2025-07-30T14:06:21.487836Z",
     "shell.execute_reply": "2025-07-30T14:06:21.486896Z"
    },
    "executionInfo": {
     "elapsed": 368,
     "status": "ok",
     "timestamp": 1753625880739,
     "user": {
      "displayName": "Ahsan Mubarak",
      "userId": "13952536471194166156"
     },
     "user_tz": -420
    },
    "id": "ynqflmQyMKzh",
    "outputId": "53607957-2385-448e-af31-e9e39d05945e",
    "papermill": {
     "duration": 0.268454,
     "end_time": "2025-07-30T14:06:21.489659",
     "exception": false,
     "start_time": "2025-07-30T14:06:21.221205",
     "status": "completed"
    },
    "tags": []
   },
   "outputs": [
    {
     "data": {
      "image/png": "[encoded data removed]",
      "text/plain": [
       "<Figure size 800x500 with 1 Axes>"
      ]
     },
     "metadata": {},
     "output_type": "display_data"
    }
   ],
   "source": [
    "clv_by_city = pd.crosstab(df['City'], df['CLV Category'])\n",
    "clv_by_city = clv_by_city[['Very Low', 'Low', 'Medium', 'High']]\n",
    "\n",
    "top_cities = clv_by_city.sum(axis=1).index\n",
    "clv_by_city = clv_by_city.loc[top_cities]\n",
    "\n",
    "colors = ['#ccece6', '#66c2a4', '#238b45', '#00441b']\n",
    "\n",
    "ax = clv_by_city.plot(\n",
    "    kind='bar',\n",
    "    stacked=True,\n",
    "    figsize=(8, 5),\n",
    "    color=colors\n",
    ")\n",
    "\n",
    "for container in ax.containers:\n",
    "    for patch in container:\n",
    "        height = patch.get_height()\n",
    "        if height > 0:\n",
    "            x = patch.get_x() + patch.get_width() / 2\n",
    "            y = patch.get_y() + height / 2\n",
    "            label = clv_by_city.columns[ax.containers.index(container)]\n",
    "            ax.text(x, y, label, ha='center', va='center', fontsize=8, color='black')\n",
    "\n",
    "plt.title('CLV Category by City')\n",
    "plt.xlabel('')\n",
    "plt.ylabel('Number of Customers')\n",
    "\n",
    "plt.xticks(rotation=0, ha='center')\n",
    "\n",
    "for side in ['top', 'right']:\n",
    "    ax.spines[side].set_visible(False)\n",
    "ax.spines['left'].set_color('gray')\n",
    "ax.spines['bottom'].set_color('gray')\n",
    "ax.spines['left'].set_linewidth(0.8)\n",
    "ax.spines['bottom'].set_linewidth(0.8)\n",
    "\n",
    "plt.grid(False)\n",
    "plt.legend().remove()\n",
    "plt.tight_layout()\n",
    "plt.show()"
   ]
  },
  {
   "cell_type": "markdown",
   "id": "6cca6343",
   "metadata": {
    "papermill": {
     "duration": 0.015323,
     "end_time": "2025-07-30T14:06:21.519475",
     "exception": false,
     "start_time": "2025-07-30T14:06:21.504152",
     "status": "completed"
    },
    "tags": []
   },
   "source": [
    "**Location vs CLV**\n",
    "\n",
    "- San Francisco: 100% of customers are High-CLV  \n",
    "- Los Angeles: 91% Medium-CLV, only 9% High  \n",
    "- New York: Mixed, 60% Medium and 40% High\n",
    "\n",
    "**Interpretation:**\n",
    "\n",
    "San Francisco shows strong customer potential. New York and Los Angeles also show growth opportunities if targeted properly."
   ]
  },
  {
   "cell_type": "code",
   "execution_count": 28,
   "id": "74e4d422",
   "metadata": {
    "execution": {
     "iopub.execute_input": "2025-07-30T14:06:21.549048Z",
     "iopub.status.busy": "2025-07-30T14:06:21.548768Z",
     "iopub.status.idle": "2025-07-30T14:06:21.558242Z",
     "shell.execute_reply": "2025-07-30T14:06:21.557393Z"
    },
    "executionInfo": {
     "elapsed": 34,
     "status": "ok",
     "timestamp": 1753625735696,
     "user": {
      "displayName": "Ahsan Mubarak",
      "userId": "13952536471194166156"
     },
     "user_tz": -420
    },
    "id": "Wf0tDE1IND31",
    "outputId": "1bf9eb7d-3dca-49c8-d4a7-e691b48a7ef7",
    "papermill": {
     "duration": 0.026289,
     "end_time": "2025-07-30T14:06:21.559836",
     "exception": false,
     "start_time": "2025-07-30T14:06:21.533547",
     "status": "completed"
    },
    "tags": []
   },
   "outputs": [
    {
     "data": {
      "text/plain": [
       "Age Category\n",
       "Adult           166\n",
       "Young Adult     117\n",
       "Mature Adult     67\n",
       "Name: count, dtype: int64"
      ]
     },
     "execution_count": 28,
     "metadata": {},
     "output_type": "execute_result"
    }
   ],
   "source": [
    "def age_category(age):\n",
    "    if age <= 30:\n",
    "        return 'Young Adult'\n",
    "    elif 31 <= age <= 37:\n",
    "        return 'Adult'\n",
    "    else:\n",
    "        return 'Mature Adult'\n",
    "\n",
    "df['Age Category'] = df['Age'].apply(age_category)\n",
    "df['Age Category'].value_counts()"
   ]
  },
  {
   "cell_type": "code",
   "execution_count": 29,
   "id": "f95cf723",
   "metadata": {
    "execution": {
     "iopub.execute_input": "2025-07-30T14:06:21.590417Z",
     "iopub.status.busy": "2025-07-30T14:06:21.590070Z",
     "iopub.status.idle": "2025-07-30T14:06:21.613356Z",
     "shell.execute_reply": "2025-07-30T14:06:21.612569Z"
    },
    "executionInfo": {
     "elapsed": 35,
     "status": "ok",
     "timestamp": 1753625762780,
     "user": {
      "displayName": "Ahsan Mubarak",
      "userId": "13952536471194166156"
     },
     "user_tz": -420
    },
    "id": "gBE2GIqMPT3J",
    "outputId": "508ae9f2-ba15-4725-f884-5d156583f31d",
    "papermill": {
     "duration": 0.040187,
     "end_time": "2025-07-30T14:06:21.614818",
     "exception": false,
     "start_time": "2025-07-30T14:06:21.574631",
     "status": "completed"
    },
    "tags": []
   },
   "outputs": [
    {
     "data": {
      "text/html": [
       "<div>\n",
       "<style scoped>\n",
       "    .dataframe tbody tr th:only-of-type {\n",
       "        vertical-align: middle;\n",
       "    }\n",
       "\n",
       "    .dataframe tbody tr th {\n",
       "        vertical-align: top;\n",
       "    }\n",
       "\n",
       "    .dataframe thead th {\n",
       "        text-align: right;\n",
       "    }\n",
       "</style>\n",
       "<table border=\"1\" class=\"dataframe\">\n",
       "  <thead>\n",
       "    <tr style=\"text-align: right;\">\n",
       "      <th>CLV Category</th>\n",
       "      <th>Very Low</th>\n",
       "      <th>Low</th>\n",
       "      <th>Medium</th>\n",
       "      <th>High</th>\n",
       "    </tr>\n",
       "    <tr>\n",
       "      <th>Age Category</th>\n",
       "      <th></th>\n",
       "      <th></th>\n",
       "      <th></th>\n",
       "      <th></th>\n",
       "    </tr>\n",
       "  </thead>\n",
       "  <tbody>\n",
       "    <tr>\n",
       "      <th>Adult</th>\n",
       "      <td>49</td>\n",
       "      <td>25</td>\n",
       "      <td>84</td>\n",
       "      <td>8</td>\n",
       "    </tr>\n",
       "    <tr>\n",
       "      <th>Mature Adult</th>\n",
       "      <td>39</td>\n",
       "      <td>28</td>\n",
       "      <td>0</td>\n",
       "      <td>0</td>\n",
       "    </tr>\n",
       "    <tr>\n",
       "      <th>Young Adult</th>\n",
       "      <td>0</td>\n",
       "      <td>34</td>\n",
       "      <td>2</td>\n",
       "      <td>81</td>\n",
       "    </tr>\n",
       "  </tbody>\n",
       "</table>\n",
       "</div>"
      ],
      "text/plain": [
       "CLV Category  Very Low  Low  Medium  High\n",
       "Age Category                             \n",
       "Adult               49   25      84     8\n",
       "Mature Adult        39   28       0     0\n",
       "Young Adult          0   34       2    81"
      ]
     },
     "execution_count": 29,
     "metadata": {},
     "output_type": "execute_result"
    }
   ],
   "source": [
    "pd.crosstab(df['Age Category'], df['CLV Category'])\n"
   ]
  },
  {
   "cell_type": "code",
   "execution_count": 30,
   "id": "2457f961",
   "metadata": {
    "execution": {
     "iopub.execute_input": "2025-07-30T14:06:21.644131Z",
     "iopub.status.busy": "2025-07-30T14:06:21.643865Z",
     "iopub.status.idle": "2025-07-30T14:06:21.882256Z",
     "shell.execute_reply": "2025-07-30T14:06:21.881204Z"
    },
    "executionInfo": {
     "elapsed": 558,
     "status": "ok",
     "timestamp": 1753625912378,
     "user": {
      "displayName": "Ahsan Mubarak",
      "userId": "13952536471194166156"
     },
     "user_tz": -420
    },
    "id": "kkS3OewcPcUh",
    "outputId": "fe7905e7-c8ad-4c58-864f-18d3c532c4e5",
    "papermill": {
     "duration": 0.254933,
     "end_time": "2025-07-30T14:06:21.883911",
     "exception": false,
     "start_time": "2025-07-30T14:06:21.628978",
     "status": "completed"
    },
    "tags": []
   },
   "outputs": [
    {
     "data": {
      "image/png": "[encoded data removed]",
      "text/plain": [
       "<Figure size 800x500 with 1 Axes>"
      ]
     },
     "metadata": {},
     "output_type": "display_data"
    }
   ],
   "source": [
    "clv_by_age = pd.crosstab(df['Age Category'], df['CLV Category'])\n",
    "clv_by_age = clv_by_age[['Very Low', 'Low', 'Medium', 'High']]\n",
    "\n",
    "colors = ['#ccece6', '#66c2a4', '#238b45', '#00441b']\n",
    "\n",
    "ax = clv_by_age.plot(\n",
    "    kind='bar',\n",
    "    stacked=True,\n",
    "    figsize=(8, 5),\n",
    "    color=colors\n",
    ")\n",
    "\n",
    "for container in ax.containers:\n",
    "    for patch in container:\n",
    "        height = patch.get_height()\n",
    "        if height > 0:\n",
    "            x = patch.get_x() + patch.get_width() / 2\n",
    "            y = patch.get_y() + height / 2\n",
    "            label = clv_by_city.columns[ax.containers.index(container)]\n",
    "            ax.text(x, y, label, ha='center', va='center', fontsize=8, color='black')\n",
    "\n",
    "plt.title('CLV Category by Age Category')\n",
    "plt.xlabel('')\n",
    "plt.ylabel('Number of Customers')\n",
    "\n",
    "plt.xticks(rotation=0, ha='center')\n",
    "\n",
    "for side in ['top', 'right']:\n",
    "    ax.spines[side].set_visible(False)\n",
    "ax.spines['left'].set_color('gray')\n",
    "ax.spines['bottom'].set_color('gray')\n",
    "ax.spines['left'].set_linewidth(0.8)\n",
    "ax.spines['bottom'].set_linewidth(0.8)\n",
    "\n",
    "plt.grid(False)\n",
    "plt.legend().remove()\n",
    "plt.tight_layout()\n",
    "plt.show()"
   ]
  },
  {
   "cell_type": "markdown",
   "id": "c4da7a92",
   "metadata": {
    "papermill": {
     "duration": 0.014153,
     "end_time": "2025-07-30T14:06:21.913231",
     "exception": false,
     "start_time": "2025-07-30T14:06:21.899078",
     "status": "completed"
    },
    "tags": []
   },
   "source": [
    "**Final Insight & Recommendation**\n",
    "\n",
    "This analysis shows that high-value customers tend to be:\n",
    "- Gold members\n",
    "- Satisfied with service\n",
    "- Located in San Francisco\n",
    "\n",
    "These three characteristics strongly correlate with customer lifetime value. Therefore, I recommend:\n",
    "\n",
    "1. Focusing on San Francisco, New York, and Los Angeles for customer retention and expansion efforts  \n",
    "2. Promoting Gold membership upgrades through targeted campaigns  \n",
    "3. Enhancing the overall customer experience to boost satisfaction and long-term loyalty\n",
    "\n",
    "By focusing on these segments and strategies, the business can improve retention and maximize lifetime value across key regions.\n",
    "\n"
   ]
  }
 ],
 "metadata": {
  "colab": {
   "authorship_tag": "ABX9TyNkAOZ1fie8XKwd7oUS1zji",
   "provenance": []
  },
  "kaggle": {
   "accelerator": "none",
   "dataSources": [
    {
     "datasetId": 7972482,
     "sourceId": 12618937,
     "sourceType": "datasetVersion"
    }
   ],
   "dockerImageVersionId": 31089,
   "isGpuEnabled": false,
   "isInternetEnabled": true,
   "language": "python",
   "sourceType": "notebook"
  },
  "kernelspec": {
   "display_name": "Python 3",
   "language": "python",
   "name": "python3"
  },
  "language_info": {
   "codemirror_mode": {
    "name": "ipython",
    "version": 3
   },
   "file_extension": ".py",
   "mimetype": "text/x-python",
   "name": "python",
   "nbconvert_exporter": "python",
   "pygments_lexer": "ipython3",
   "version": "3.11.13"
  },
  "papermill": {
   "default_parameters": {},
   "duration": 12.960604,
   "end_time": "2025-07-30T14:06:22.648589",
   "environment_variables": {},
   "exception": null,
   "input_path": "__notebook__.ipynb",
   "output_path": "__notebook__.ipynb",
   "parameters": {},
   "start_time": "2025-07-30T14:06:09.687985",
   "version": "2.6.0"
  }
 },
 "nbformat": 4,
 "nbformat_minor": 5
}
